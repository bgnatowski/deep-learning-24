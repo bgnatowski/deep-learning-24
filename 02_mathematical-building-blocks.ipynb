{
 "cells": [
  {
   "cell_type": "code",
   "id": "initial_id",
   "metadata": {
    "collapsed": true,
    "ExecuteTime": {
     "end_time": "2025-01-21T11:14:30.400546Z",
     "start_time": "2025-01-21T11:14:28.830751Z"
    }
   },
   "source": [
    "from tensorflow.keras.datasets import mnist\n",
    "(train_images, train_labels), (test_images, test_labels) = mnist.load_data()\n",
    "\n",
    "train_images.shape\n"
   ],
   "outputs": [
    {
     "data": {
      "text/plain": [
       "(60000, 28, 28)"
      ]
     },
     "execution_count": 1,
     "metadata": {},
     "output_type": "execute_result"
    }
   ],
   "execution_count": 1
  },
  {
   "cell_type": "code",
   "id": "aa4fa8da",
   "metadata": {
    "ExecuteTime": {
     "end_time": "2025-01-21T11:14:30.417511Z",
     "start_time": "2025-01-21T11:14:30.414725Z"
    }
   },
   "source": [
    "\n",
    "len(train_images)"
   ],
   "outputs": [
    {
     "data": {
      "text/plain": [
       "60000"
      ]
     },
     "execution_count": 2,
     "metadata": {},
     "output_type": "execute_result"
    }
   ],
   "execution_count": 2
  },
  {
   "metadata": {
    "ExecuteTime": {
     "end_time": "2025-01-21T11:14:30.486480Z",
     "start_time": "2025-01-21T11:14:30.484054Z"
    }
   },
   "cell_type": "code",
   "source": "train_labels",
   "id": "a3792d9191384453",
   "outputs": [
    {
     "data": {
      "text/plain": [
       "array([5, 0, 4, ..., 5, 6, 8], dtype=uint8)"
      ]
     },
     "execution_count": 3,
     "metadata": {},
     "output_type": "execute_result"
    }
   ],
   "execution_count": 3
  },
  {
   "metadata": {
    "ExecuteTime": {
     "end_time": "2025-01-21T11:14:30.494953Z",
     "start_time": "2025-01-21T11:14:30.492569Z"
    }
   },
   "cell_type": "code",
   "source": "test_images.shape",
   "id": "9d92b7372660715",
   "outputs": [
    {
     "data": {
      "text/plain": [
       "(10000, 28, 28)"
      ]
     },
     "execution_count": 4,
     "metadata": {},
     "output_type": "execute_result"
    }
   ],
   "execution_count": 4
  },
  {
   "metadata": {
    "ExecuteTime": {
     "end_time": "2025-01-21T11:14:30.502708Z",
     "start_time": "2025-01-21T11:14:30.500514Z"
    }
   },
   "cell_type": "code",
   "source": "len(test_images)",
   "id": "dc13340d7014fe5f",
   "outputs": [
    {
     "data": {
      "text/plain": [
       "10000"
      ]
     },
     "execution_count": 5,
     "metadata": {},
     "output_type": "execute_result"
    }
   ],
   "execution_count": 5
  },
  {
   "metadata": {
    "ExecuteTime": {
     "end_time": "2025-01-21T11:14:30.525706Z",
     "start_time": "2025-01-21T11:14:30.518454Z"
    }
   },
   "cell_type": "code",
   "source": [
    "from tensorflow import keras\n",
    "from tensorflow.keras import layers\n",
    "model = keras.Sequential([\n",
    "    layers.Dense(512, activation=\"relu\"),\n",
    "    layers.Dense(10, activation=\"softmax\"),\n",
    "])"
   ],
   "id": "93890db4b7169fce",
   "outputs": [],
   "execution_count": 6
  },
  {
   "metadata": {
    "ExecuteTime": {
     "end_time": "2025-01-21T11:14:30.537725Z",
     "start_time": "2025-01-21T11:14:30.531965Z"
    }
   },
   "cell_type": "code",
   "source": [
    "model.compile(optimizer=\"rmsprop\",\n",
    "              loss=\"sparse_categorical_crossentropy\",\n",
    "              metrics=[\"accuracy\"])"
   ],
   "id": "6219e50b4352ed3",
   "outputs": [],
   "execution_count": 7
  },
  {
   "metadata": {
    "ExecuteTime": {
     "end_time": "2025-01-21T11:14:30.628244Z",
     "start_time": "2025-01-21T11:14:30.543387Z"
    }
   },
   "cell_type": "code",
   "source": [
    "train_images = train_images.reshape((60000, 28 * 28))\n",
    "train_images = train_images / 255.0\n",
    "test_images = test_images.reshape((10000, 28 * 28))\n",
    "test_images = test_images / 255.0\n"
   ],
   "id": "f181bbeaf5b595ca",
   "outputs": [],
   "execution_count": 8
  },
  {
   "metadata": {
    "ExecuteTime": {
     "end_time": "2025-01-21T11:14:35.898200Z",
     "start_time": "2025-01-21T11:14:30.634180Z"
    }
   },
   "cell_type": "code",
   "source": "model.fit(train_images, train_labels, epochs=5, batch_size=128)",
   "id": "cd19c1f753e40783",
   "outputs": [
    {
     "name": "stdout",
     "output_type": "stream",
     "text": [
      "Epoch 1/5\n",
      " 25/469 [>.............................] - ETA: 0s - loss: 0.8371 - accuracy: 0.7638  "
     ]
    },
    {
     "name": "stderr",
     "output_type": "stream",
     "text": [
      "2025-01-21 12:14:30.912818: I tensorflow/compiler/mlir/mlir_graph_optimization_pass.cc:185] None of the MLIR Optimization Passes are enabled (registered 2)\n",
      "2025-01-21 12:14:30.913041: W tensorflow/core/platform/profile_utils/cpu_utils.cc:128] Failed to get CPU frequency: 0 Hz\n"
     ]
    },
    {
     "name": "stdout",
     "output_type": "stream",
     "text": [
      "469/469 [==============================] - 1s 2ms/step - loss: 0.2574 - accuracy: 0.9258\n",
      "Epoch 2/5\n",
      "469/469 [==============================] - 1s 2ms/step - loss: 0.1047 - accuracy: 0.9689\n",
      "Epoch 3/5\n",
      "469/469 [==============================] - 1s 2ms/step - loss: 0.0697 - accuracy: 0.9791\n",
      "Epoch 4/5\n",
      "469/469 [==============================] - 1s 2ms/step - loss: 0.0510 - accuracy: 0.9846\n",
      "Epoch 5/5\n",
      "469/469 [==============================] - 1s 2ms/step - loss: 0.0387 - accuracy: 0.9885\n"
     ]
    },
    {
     "data": {
      "text/plain": [
       "<keras.callbacks.History at 0x34fd08af0>"
      ]
     },
     "execution_count": 9,
     "metadata": {},
     "output_type": "execute_result"
    }
   ],
   "execution_count": 9
  },
  {
   "metadata": {
    "ExecuteTime": {
     "end_time": "2025-01-21T11:14:35.947295Z",
     "start_time": "2025-01-21T11:14:35.907776Z"
    }
   },
   "cell_type": "code",
   "source": [
    "test_digits = test_images[0:10]\n",
    "predictions = model.predict(test_digits)\n",
    "predictions[0]"
   ],
   "id": "bd939f406be3adb3",
   "outputs": [
    {
     "data": {
      "text/plain": [
       "array([3.4259595e-09, 4.7119076e-11, 2.6275188e-07, 1.3142613e-05,\n",
       "       3.2083331e-13, 3.2458984e-09, 1.2496937e-15, 9.9998665e-01,\n",
       "       1.0374046e-08, 2.6445010e-08], dtype=float32)"
      ]
     },
     "execution_count": 10,
     "metadata": {},
     "output_type": "execute_result"
    }
   ],
   "execution_count": 10
  },
  {
   "metadata": {
    "ExecuteTime": {
     "end_time": "2025-01-21T11:14:35.956812Z",
     "start_time": "2025-01-21T11:14:35.954013Z"
    }
   },
   "cell_type": "code",
   "source": "predictions[0].argmax()",
   "id": "d8fca03f6d62c0c",
   "outputs": [
    {
     "data": {
      "text/plain": [
       "7"
      ]
     },
     "execution_count": 11,
     "metadata": {},
     "output_type": "execute_result"
    }
   ],
   "execution_count": 11
  },
  {
   "metadata": {
    "ExecuteTime": {
     "end_time": "2025-01-21T11:14:35.966979Z",
     "start_time": "2025-01-21T11:14:35.964539Z"
    }
   },
   "cell_type": "code",
   "source": "predictions[0][7]\n",
   "id": "87b25eaa6ce73455",
   "outputs": [
    {
     "data": {
      "text/plain": [
       "0.99998665"
      ]
     },
     "execution_count": 12,
     "metadata": {},
     "output_type": "execute_result"
    }
   ],
   "execution_count": 12
  },
  {
   "metadata": {
    "ExecuteTime": {
     "end_time": "2025-01-21T11:14:35.982120Z",
     "start_time": "2025-01-21T11:14:35.979552Z"
    }
   },
   "cell_type": "code",
   "source": "test_labels[0]",
   "id": "86a9329e7325c191",
   "outputs": [
    {
     "data": {
      "text/plain": [
       "7"
      ]
     },
     "execution_count": 13,
     "metadata": {},
     "output_type": "execute_result"
    }
   ],
   "execution_count": 13
  },
  {
   "metadata": {
    "ExecuteTime": {
     "end_time": "2025-01-21T11:14:36.194502Z",
     "start_time": "2025-01-21T11:14:35.990245Z"
    }
   },
   "cell_type": "code",
   "source": [
    "test_loss, test_acc = model.evaluate(test_images, test_labels)\n",
    "print(f\"test_acc: {test_acc}\")"
   ],
   "id": "f2d063cbc9817342",
   "outputs": [
    {
     "name": "stdout",
     "output_type": "stream",
     "text": [
      "313/313 [==============================] - 0s 468us/step - loss: 0.0651 - accuracy: 0.9790\n",
      "test_acc: 0.9789999723434448\n"
     ]
    }
   ],
   "execution_count": 14
  },
  {
   "metadata": {
    "ExecuteTime": {
     "end_time": "2025-01-21T11:14:36.205006Z",
     "start_time": "2025-01-21T11:14:36.203558Z"
    }
   },
   "cell_type": "code",
   "source": "",
   "id": "da422fef2372c12",
   "outputs": [],
   "execution_count": null
  }
 ],
 "metadata": {
  "kernelspec": {
   "display_name": "tensorflow_env",
   "language": "python",
   "name": "python3"
  },
  "language_info": {
   "codemirror_mode": {
    "name": "ipython",
    "version": 3
   },
   "file_extension": ".py",
   "mimetype": "text/x-python",
   "name": "python",
   "nbconvert_exporter": "python",
   "pygments_lexer": "ipython3",
   "version": "3.9.18"
  }
 },
 "nbformat": 4,
 "nbformat_minor": 5
}
