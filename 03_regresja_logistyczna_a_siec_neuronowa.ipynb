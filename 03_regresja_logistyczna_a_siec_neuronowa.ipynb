{
 "cells": [
  {
   "cell_type": "code",
   "metadata": {
    "ExecuteTime": {
     "end_time": "2025-01-14T08:16:06.666962Z",
     "start_time": "2025-01-14T08:16:06.664639Z"
    }
   },
   "source": [
    "import h5py\n",
    "# import h5py\n",
    "import pandas as pd\n",
    "import numpy as np\n",
    "import matplotlib.pyplot as plt\n",
    "# import seaborn as sns\n",
    "\n",
    "from pathlib import Path\n",
    "\n",
    "from PIL.ImageColor import colormap\n",
    "\n",
    "np.random.seed(42)"
   ],
   "outputs": [],
   "execution_count": 102
  },
  {
   "cell_type": "code",
   "metadata": {
    "ExecuteTime": {
     "end_time": "2025-01-14T08:16:06.677402Z",
     "start_time": "2025-01-14T08:16:06.675481Z"
    }
   },
   "source": [
    "def sigmoid(x):\n",
    "    return 1/(1+np.exp(-x))"
   ],
   "outputs": [],
   "execution_count": 103
  },
  {
   "cell_type": "markdown",
   "metadata": {},
   "source": [
    "$\\frac{1}{2}\\sum_{i=1}$"
   ]
  },
  {
   "cell_type": "code",
   "metadata": {
    "ExecuteTime": {
     "end_time": "2025-01-14T08:16:06.733206Z",
     "start_time": "2025-01-14T08:16:06.688854Z"
    }
   },
   "source": [
    "x=np.linspace(-10,10,100)\n",
    "plt.plot(x,sigmoid(x), label = fr\"$\\sigma (z)$\")\n",
    "plt.grid(True)\n",
    "plt.legend()\n",
    "plt.title(\"Funkcja sigmoidalna\")\n",
    "plt.show()"
   ],
   "outputs": [
    {
     "data": {
      "text/plain": [
       "<Figure size 640x480 with 1 Axes>"
      ],
      "image/png": "[encoded data removed]"
     },
     "metadata": {},
     "output_type": "display_data"
    }
   ],
   "execution_count": 104
  },
  {
   "cell_type": "code",
   "metadata": {
    "ExecuteTime": {
     "end_time": "2025-01-14T08:16:06.746122Z",
     "start_time": "2025-01-14T08:16:06.742325Z"
    }
   },
   "source": [
    "from sklearn.datasets import load_iris\n",
    "from sklearn.linear_model import LogisticRegression\n",
    "iris = load_iris(as_frame=True)\n",
    "list(iris)"
   ],
   "outputs": [
    {
     "data": {
      "text/plain": [
       "['data',\n",
       " 'target',\n",
       " 'frame',\n",
       " 'target_names',\n",
       " 'DESCR',\n",
       " 'feature_names',\n",
       " 'filename',\n",
       " 'data_module']"
      ]
     },
     "execution_count": 105,
     "metadata": {},
     "output_type": "execute_result"
    }
   ],
   "execution_count": 105
  },
  {
   "cell_type": "code",
   "metadata": {
    "ExecuteTime": {
     "end_time": "2025-01-14T08:16:06.756622Z",
     "start_time": "2025-01-14T08:16:06.754713Z"
    }
   },
   "source": [
    "iris.target.head()"
   ],
   "outputs": [
    {
     "data": {
      "text/plain": [
       "0    0\n",
       "1    0\n",
       "2    0\n",
       "3    0\n",
       "4    0\n",
       "Name: target, dtype: int64"
      ]
     },
     "execution_count": 106,
     "metadata": {},
     "output_type": "execute_result"
    }
   ],
   "execution_count": 106
  },
  {
   "cell_type": "code",
   "metadata": {
    "ExecuteTime": {
     "end_time": "2025-01-14T08:16:06.778760Z",
     "start_time": "2025-01-14T08:16:06.776850Z"
    }
   },
   "source": [
    "iris.target.unique()"
   ],
   "outputs": [
    {
     "data": {
      "text/plain": [
       "array([0, 1, 2])"
      ]
     },
     "execution_count": 107,
     "metadata": {},
     "output_type": "execute_result"
    }
   ],
   "execution_count": 107
  },
  {
   "cell_type": "code",
   "metadata": {
    "ExecuteTime": {
     "end_time": "2025-01-14T08:16:06.813296Z",
     "start_time": "2025-01-14T08:16:06.811395Z"
    }
   },
   "source": [
    "iris.target_names"
   ],
   "outputs": [
    {
     "data": {
      "text/plain": [
       "array(['setosa', 'versicolor', 'virginica'], dtype='<U10')"
      ]
     },
     "execution_count": 108,
     "metadata": {},
     "output_type": "execute_result"
    }
   ],
   "execution_count": 108
  },
  {
   "cell_type": "code",
   "metadata": {
    "ExecuteTime": {
     "end_time": "2025-01-14T08:16:06.836641Z",
     "start_time": "2025-01-14T08:16:06.835074Z"
    }
   },
   "source": [
    "X = iris.data\n",
    "y = iris.target_names[iris.target] == 'virginica'"
   ],
   "outputs": [],
   "execution_count": 109
  },
  {
   "cell_type": "code",
   "metadata": {
    "ExecuteTime": {
     "end_time": "2025-01-14T08:16:06.855458Z",
     "start_time": "2025-01-14T08:16:06.853540Z"
    }
   },
   "source": [
    "y"
   ],
   "outputs": [
    {
     "data": {
      "text/plain": [
       "array([False, False, False, False, False, False, False, False, False,\n",
       "       False, False, False, False, False, False, False, False, False,\n",
       "       False, False, False, False, False, False, False, False, False,\n",
       "       False, False, False, False, False, False, False, False, False,\n",
       "       False, False, False, False, False, False, False, False, False,\n",
       "       False, False, False, False, False, False, False, False, False,\n",
       "       False, False, False, False, False, False, False, False, False,\n",
       "       False, False, False, False, False, False, False, False, False,\n",
       "       False, False, False, False, False, False, False, False, False,\n",
       "       False, False, False, False, False, False, False, False, False,\n",
       "       False, False, False, False, False, False, False, False, False,\n",
       "       False,  True,  True,  True,  True,  True,  True,  True,  True,\n",
       "        True,  True,  True,  True,  True,  True,  True,  True,  True,\n",
       "        True,  True,  True,  True,  True,  True,  True,  True,  True,\n",
       "        True,  True,  True,  True,  True,  True,  True,  True,  True,\n",
       "        True,  True,  True,  True,  True,  True,  True,  True,  True,\n",
       "        True,  True,  True,  True,  True,  True])"
      ]
     },
     "execution_count": 110,
     "metadata": {},
     "output_type": "execute_result"
    }
   ],
   "execution_count": 110
  },
  {
   "cell_type": "code",
   "metadata": {
    "ExecuteTime": {
     "end_time": "2025-01-14T08:16:06.879363Z",
     "start_time": "2025-01-14T08:16:06.873301Z"
    }
   },
   "source": [
    "from sklearn.linear_model import LogisticRegression\n",
    "from sklearn.model_selection import train_test_split\n",
    "X_train, X_test, y_train, y_test = train_test_split(X,y, random_state=42)\n",
    "\n",
    "log_reg = LogisticRegression(random_state=42)\n",
    "log_reg.fit(X=X_train, y=y_train)"
   ],
   "outputs": [
    {
     "data": {
      "text/plain": [
       "LogisticRegression(random_state=42)"
      ],
      "text/html": [
       "<style>#sk-container-id-2 {\n",
       "  /* Definition of color scheme common for light and dark mode */\n",
       "  --sklearn-color-text: black;\n",
       "  --sklearn-color-line: gray;\n",
       "  /* Definition of color scheme for unfitted estimators */\n",
       "  --sklearn-color-unfitted-level-0: #fff5e6;\n",
       "  --sklearn-color-unfitted-level-1: #f6e4d2;\n",
       "  --sklearn-color-unfitted-level-2: #ffe0b3;\n",
       "  --sklearn-color-unfitted-level-3: chocolate;\n",
       "  /* Definition of color scheme for fitted estimators */\n",
       "  --sklearn-color-fitted-level-0: #f0f8ff;\n",
       "  --sklearn-color-fitted-level-1: #d4ebff;\n",
       "  --sklearn-color-fitted-level-2: #b3dbfd;\n",
       "  --sklearn-color-fitted-level-3: cornflowerblue;\n",
       "\n",
       "  /* Specific color for light theme */\n",
       "  --sklearn-color-text-on-default-background: var(--sg-text-color, var(--theme-code-foreground, var(--jp-content-font-color1, black)));\n",
       "  --sklearn-color-background: var(--sg-background-color, var(--theme-background, var(--jp-layout-color0, white)));\n",
       "  --sklearn-color-border-box: var(--sg-text-color, var(--theme-code-foreground, var(--jp-content-font-color1, black)));\n",
       "  --sklearn-color-icon: #696969;\n",
       "\n",
       "  @media (prefers-color-scheme: dark) {\n",
       "    /* Redefinition of color scheme for dark theme */\n",
       "    --sklearn-color-text-on-default-background: var(--sg-text-color, var(--theme-code-foreground, var(--jp-content-font-color1, white)));\n",
       "    --sklearn-color-background: var(--sg-background-color, var(--theme-background, var(--jp-layout-color0, #111)));\n",
       "    --sklearn-color-border-box: var(--sg-text-color, var(--theme-code-foreground, var(--jp-content-font-color1, white)));\n",
       "    --sklearn-color-icon: #878787;\n",
       "  }\n",
       "}\n",
       "\n",
       "#sk-container-id-2 {\n",
       "  color: var(--sklearn-color-text);\n",
       "}\n",
       "\n",
       "#sk-container-id-2 pre {\n",
       "  padding: 0;\n",
       "}\n",
       "\n",
       "#sk-container-id-2 input.sk-hidden--visually {\n",
       "  border: 0;\n",
       "  clip: rect(1px 1px 1px 1px);\n",
       "  clip: rect(1px, 1px, 1px, 1px);\n",
       "  height: 1px;\n",
       "  margin: -1px;\n",
       "  overflow: hidden;\n",
       "  padding: 0;\n",
       "  position: absolute;\n",
       "  width: 1px;\n",
       "}\n",
       "\n",
       "#sk-container-id-2 div.sk-dashed-wrapped {\n",
       "  border: 1px dashed var(--sklearn-color-line);\n",
       "  margin: 0 0.4em 0.5em 0.4em;\n",
       "  box-sizing: border-box;\n",
       "  padding-bottom: 0.4em;\n",
       "  background-color: var(--sklearn-color-background);\n",
       "}\n",
       "\n",
       "#sk-container-id-2 div.sk-container {\n",
       "  /* jupyter's `normalize.less` sets `[hidden] { display: none; }`\n",
       "     but bootstrap.min.css set `[hidden] { display: none !important; }`\n",
       "     so we also need the `!important` here to be able to override the\n",
       "     default hidden behavior on the sphinx rendered scikit-learn.org.\n",
       "     See: https://github.com/scikit-learn/scikit-learn/issues/21755 */\n",
       "  display: inline-block !important;\n",
       "  position: relative;\n",
       "}\n",
       "\n",
       "#sk-container-id-2 div.sk-text-repr-fallback {\n",
       "  display: none;\n",
       "}\n",
       "\n",
       "div.sk-parallel-item,\n",
       "div.sk-serial,\n",
       "div.sk-item {\n",
       "  /* draw centered vertical line to link estimators */\n",
       "  background-image: linear-gradient(var(--sklearn-color-text-on-default-background), var(--sklearn-color-text-on-default-background));\n",
       "  background-size: 2px 100%;\n",
       "  background-repeat: no-repeat;\n",
       "  background-position: center center;\n",
       "}\n",
       "\n",
       "/* Parallel-specific style estimator block */\n",
       "\n",
       "#sk-container-id-2 div.sk-parallel-item::after {\n",
       "  content: \"\";\n",
       "  width: 100%;\n",
       "  border-bottom: 2px solid var(--sklearn-color-text-on-default-background);\n",
       "  flex-grow: 1;\n",
       "}\n",
       "\n",
       "#sk-container-id-2 div.sk-parallel {\n",
       "  display: flex;\n",
       "  align-items: stretch;\n",
       "  justify-content: center;\n",
       "  background-color: var(--sklearn-color-background);\n",
       "  position: relative;\n",
       "}\n",
       "\n",
       "#sk-container-id-2 div.sk-parallel-item {\n",
       "  display: flex;\n",
       "  flex-direction: column;\n",
       "}\n",
       "\n",
       "#sk-container-id-2 div.sk-parallel-item:first-child::after {\n",
       "  align-self: flex-end;\n",
       "  width: 50%;\n",
       "}\n",
       "\n",
       "#sk-container-id-2 div.sk-parallel-item:last-child::after {\n",
       "  align-self: flex-start;\n",
       "  width: 50%;\n",
       "}\n",
       "\n",
       "#sk-container-id-2 div.sk-parallel-item:only-child::after {\n",
       "  width: 0;\n",
       "}\n",
       "\n",
       "/* Serial-specific style estimator block */\n",
       "\n",
       "#sk-container-id-2 div.sk-serial {\n",
       "  display: flex;\n",
       "  flex-direction: column;\n",
       "  align-items: center;\n",
       "  background-color: var(--sklearn-color-background);\n",
       "  padding-right: 1em;\n",
       "  padding-left: 1em;\n",
       "}\n",
       "\n",
       "\n",
       "/* Toggleable style: style used for estimator/Pipeline/ColumnTransformer box that is\n",
       "clickable and can be expanded/collapsed.\n",
       "- Pipeline and ColumnTransformer use this feature and define the default style\n",
       "- Estimators will overwrite some part of the style using the `sk-estimator` class\n",
       "*/\n",
       "\n",
       "/* Pipeline and ColumnTransformer style (default) */\n",
       "\n",
       "#sk-container-id-2 div.sk-toggleable {\n",
       "  /* Default theme specific background. It is overwritten whether we have a\n",
       "  specific estimator or a Pipeline/ColumnTransformer */\n",
       "  background-color: var(--sklearn-color-background);\n",
       "}\n",
       "\n",
       "/* Toggleable label */\n",
       "#sk-container-id-2 label.sk-toggleable__label {\n",
       "  cursor: pointer;\n",
       "  display: block;\n",
       "  width: 100%;\n",
       "  margin-bottom: 0;\n",
       "  padding: 0.5em;\n",
       "  box-sizing: border-box;\n",
       "  text-align: center;\n",
       "}\n",
       "\n",
       "#sk-container-id-2 label.sk-toggleable__label-arrow:before {\n",
       "  /* Arrow on the left of the label */\n",
       "  content: \"▸\";\n",
       "  float: left;\n",
       "  margin-right: 0.25em;\n",
       "  color: var(--sklearn-color-icon);\n",
       "}\n",
       "\n",
       "#sk-container-id-2 label.sk-toggleable__label-arrow:hover:before {\n",
       "  color: var(--sklearn-color-text);\n",
       "}\n",
       "\n",
       "/* Toggleable content - dropdown */\n",
       "\n",
       "#sk-container-id-2 div.sk-toggleable__content {\n",
       "  max-height: 0;\n",
       "  max-width: 0;\n",
       "  overflow: hidden;\n",
       "  text-align: left;\n",
       "  /* unfitted */\n",
       "  background-color: var(--sklearn-color-unfitted-level-0);\n",
       "}\n",
       "\n",
       "#sk-container-id-2 div.sk-toggleable__content.fitted {\n",
       "  /* fitted */\n",
       "  background-color: var(--sklearn-color-fitted-level-0);\n",
       "}\n",
       "\n",
       "#sk-container-id-2 div.sk-toggleable__content pre {\n",
       "  margin: 0.2em;\n",
       "  border-radius: 0.25em;\n",
       "  color: var(--sklearn-color-text);\n",
       "  /* unfitted */\n",
       "  background-color: var(--sklearn-color-unfitted-level-0);\n",
       "}\n",
       "\n",
       "#sk-container-id-2 div.sk-toggleable__content.fitted pre {\n",
       "  /* unfitted */\n",
       "  background-color: var(--sklearn-color-fitted-level-0);\n",
       "}\n",
       "\n",
       "#sk-container-id-2 input.sk-toggleable__control:checked~div.sk-toggleable__content {\n",
       "  /* Expand drop-down */\n",
       "  max-height: 200px;\n",
       "  max-width: 100%;\n",
       "  overflow: auto;\n",
       "}\n",
       "\n",
       "#sk-container-id-2 input.sk-toggleable__control:checked~label.sk-toggleable__label-arrow:before {\n",
       "  content: \"▾\";\n",
       "}\n",
       "\n",
       "/* Pipeline/ColumnTransformer-specific style */\n",
       "\n",
       "#sk-container-id-2 div.sk-label input.sk-toggleable__control:checked~label.sk-toggleable__label {\n",
       "  color: var(--sklearn-color-text);\n",
       "  background-color: var(--sklearn-color-unfitted-level-2);\n",
       "}\n",
       "\n",
       "#sk-container-id-2 div.sk-label.fitted input.sk-toggleable__control:checked~label.sk-toggleable__label {\n",
       "  background-color: var(--sklearn-color-fitted-level-2);\n",
       "}\n",
       "\n",
       "/* Estimator-specific style */\n",
       "\n",
       "/* Colorize estimator box */\n",
       "#sk-container-id-2 div.sk-estimator input.sk-toggleable__control:checked~label.sk-toggleable__label {\n",
       "  /* unfitted */\n",
       "  background-color: var(--sklearn-color-unfitted-level-2);\n",
       "}\n",
       "\n",
       "#sk-container-id-2 div.sk-estimator.fitted input.sk-toggleable__control:checked~label.sk-toggleable__label {\n",
       "  /* fitted */\n",
       "  background-color: var(--sklearn-color-fitted-level-2);\n",
       "}\n",
       "\n",
       "#sk-container-id-2 div.sk-label label.sk-toggleable__label,\n",
       "#sk-container-id-2 div.sk-label label {\n",
       "  /* The background is the default theme color */\n",
       "  color: var(--sklearn-color-text-on-default-background);\n",
       "}\n",
       "\n",
       "/* On hover, darken the color of the background */\n",
       "#sk-container-id-2 div.sk-label:hover label.sk-toggleable__label {\n",
       "  color: var(--sklearn-color-text);\n",
       "  background-color: var(--sklearn-color-unfitted-level-2);\n",
       "}\n",
       "\n",
       "/* Label box, darken color on hover, fitted */\n",
       "#sk-container-id-2 div.sk-label.fitted:hover label.sk-toggleable__label.fitted {\n",
       "  color: var(--sklearn-color-text);\n",
       "  background-color: var(--sklearn-color-fitted-level-2);\n",
       "}\n",
       "\n",
       "/* Estimator label */\n",
       "\n",
       "#sk-container-id-2 div.sk-label label {\n",
       "  font-family: monospace;\n",
       "  font-weight: bold;\n",
       "  display: inline-block;\n",
       "  line-height: 1.2em;\n",
       "}\n",
       "\n",
       "#sk-container-id-2 div.sk-label-container {\n",
       "  text-align: center;\n",
       "}\n",
       "\n",
       "/* Estimator-specific */\n",
       "#sk-container-id-2 div.sk-estimator {\n",
       "  font-family: monospace;\n",
       "  border: 1px dotted var(--sklearn-color-border-box);\n",
       "  border-radius: 0.25em;\n",
       "  box-sizing: border-box;\n",
       "  margin-bottom: 0.5em;\n",
       "  /* unfitted */\n",
       "  background-color: var(--sklearn-color-unfitted-level-0);\n",
       "}\n",
       "\n",
       "#sk-container-id-2 div.sk-estimator.fitted {\n",
       "  /* fitted */\n",
       "  background-color: var(--sklearn-color-fitted-level-0);\n",
       "}\n",
       "\n",
       "/* on hover */\n",
       "#sk-container-id-2 div.sk-estimator:hover {\n",
       "  /* unfitted */\n",
       "  background-color: var(--sklearn-color-unfitted-level-2);\n",
       "}\n",
       "\n",
       "#sk-container-id-2 div.sk-estimator.fitted:hover {\n",
       "  /* fitted */\n",
       "  background-color: var(--sklearn-color-fitted-level-2);\n",
       "}\n",
       "\n",
       "/* Specification for estimator info (e.g. \"i\" and \"?\") */\n",
       "\n",
       "/* Common style for \"i\" and \"?\" */\n",
       "\n",
       ".sk-estimator-doc-link,\n",
       "a:link.sk-estimator-doc-link,\n",
       "a:visited.sk-estimator-doc-link {\n",
       "  float: right;\n",
       "  font-size: smaller;\n",
       "  line-height: 1em;\n",
       "  font-family: monospace;\n",
       "  background-color: var(--sklearn-color-background);\n",
       "  border-radius: 1em;\n",
       "  height: 1em;\n",
       "  width: 1em;\n",
       "  text-decoration: none !important;\n",
       "  margin-left: 1ex;\n",
       "  /* unfitted */\n",
       "  border: var(--sklearn-color-unfitted-level-1) 1pt solid;\n",
       "  color: var(--sklearn-color-unfitted-level-1);\n",
       "}\n",
       "\n",
       ".sk-estimator-doc-link.fitted,\n",
       "a:link.sk-estimator-doc-link.fitted,\n",
       "a:visited.sk-estimator-doc-link.fitted {\n",
       "  /* fitted */\n",
       "  border: var(--sklearn-color-fitted-level-1) 1pt solid;\n",
       "  color: var(--sklearn-color-fitted-level-1);\n",
       "}\n",
       "\n",
       "/* On hover */\n",
       "div.sk-estimator:hover .sk-estimator-doc-link:hover,\n",
       ".sk-estimator-doc-link:hover,\n",
       "div.sk-label-container:hover .sk-estimator-doc-link:hover,\n",
       ".sk-estimator-doc-link:hover {\n",
       "  /* unfitted */\n",
       "  background-color: var(--sklearn-color-unfitted-level-3);\n",
       "  color: var(--sklearn-color-background);\n",
       "  text-decoration: none;\n",
       "}\n",
       "\n",
       "div.sk-estimator.fitted:hover .sk-estimator-doc-link.fitted:hover,\n",
       ".sk-estimator-doc-link.fitted:hover,\n",
       "div.sk-label-container:hover .sk-estimator-doc-link.fitted:hover,\n",
       ".sk-estimator-doc-link.fitted:hover {\n",
       "  /* fitted */\n",
       "  background-color: var(--sklearn-color-fitted-level-3);\n",
       "  color: var(--sklearn-color-background);\n",
       "  text-decoration: none;\n",
       "}\n",
       "\n",
       "/* Span, style for the box shown on hovering the info icon */\n",
       ".sk-estimator-doc-link span {\n",
       "  display: none;\n",
       "  z-index: 9999;\n",
       "  position: relative;\n",
       "  font-weight: normal;\n",
       "  right: .2ex;\n",
       "  padding: .5ex;\n",
       "  margin: .5ex;\n",
       "  width: min-content;\n",
       "  min-width: 20ex;\n",
       "  max-width: 50ex;\n",
       "  color: var(--sklearn-color-text);\n",
       "  box-shadow: 2pt 2pt 4pt #999;\n",
       "  /* unfitted */\n",
       "  background: var(--sklearn-color-unfitted-level-0);\n",
       "  border: .5pt solid var(--sklearn-color-unfitted-level-3);\n",
       "}\n",
       "\n",
       ".sk-estimator-doc-link.fitted span {\n",
       "  /* fitted */\n",
       "  background: var(--sklearn-color-fitted-level-0);\n",
       "  border: var(--sklearn-color-fitted-level-3);\n",
       "}\n",
       "\n",
       ".sk-estimator-doc-link:hover span {\n",
       "  display: block;\n",
       "}\n",
       "\n",
       "/* \"?\"-specific style due to the `<a>` HTML tag */\n",
       "\n",
       "#sk-container-id-2 a.estimator_doc_link {\n",
       "  float: right;\n",
       "  font-size: 1rem;\n",
       "  line-height: 1em;\n",
       "  font-family: monospace;\n",
       "  background-color: var(--sklearn-color-background);\n",
       "  border-radius: 1rem;\n",
       "  height: 1rem;\n",
       "  width: 1rem;\n",
       "  text-decoration: none;\n",
       "  /* unfitted */\n",
       "  color: var(--sklearn-color-unfitted-level-1);\n",
       "  border: var(--sklearn-color-unfitted-level-1) 1pt solid;\n",
       "}\n",
       "\n",
       "#sk-container-id-2 a.estimator_doc_link.fitted {\n",
       "  /* fitted */\n",
       "  border: var(--sklearn-color-fitted-level-1) 1pt solid;\n",
       "  color: var(--sklearn-color-fitted-level-1);\n",
       "}\n",
       "\n",
       "/* On hover */\n",
       "#sk-container-id-2 a.estimator_doc_link:hover {\n",
       "  /* unfitted */\n",
       "  background-color: var(--sklearn-color-unfitted-level-3);\n",
       "  color: var(--sklearn-color-background);\n",
       "  text-decoration: none;\n",
       "}\n",
       "\n",
       "#sk-container-id-2 a.estimator_doc_link.fitted:hover {\n",
       "  /* fitted */\n",
       "  background-color: var(--sklearn-color-fitted-level-3);\n",
       "}\n",
       "</style><div id=\"sk-container-id-2\" class=\"sk-top-container\"><div class=\"sk-text-repr-fallback\"><pre>LogisticRegression(random_state=42)</pre><b>In a Jupyter environment, please rerun this cell to show the HTML representation or trust the notebook. <br />On GitHub, the HTML representation is unable to render, please try loading this page with nbviewer.org.</b></div><div class=\"sk-container\" hidden><div class=\"sk-item\"><div class=\"sk-estimator fitted sk-toggleable\"><input class=\"sk-toggleable__control sk-hidden--visually\" id=\"sk-estimator-id-2\" type=\"checkbox\" checked><label for=\"sk-estimator-id-2\" class=\"sk-toggleable__label fitted sk-toggleable__label-arrow fitted\">&nbsp;&nbsp;LogisticRegression<a class=\"sk-estimator-doc-link fitted\" rel=\"noreferrer\" target=\"_blank\" href=\"https://scikit-learn.org/1.5/modules/generated/sklearn.linear_model.LogisticRegression.html\">?<span>Documentation for LogisticRegression</span></a><span class=\"sk-estimator-doc-link fitted\">i<span>Fitted</span></span></label><div class=\"sk-toggleable__content fitted\"><pre>LogisticRegression(random_state=42)</pre></div> </div></div></div></div>"
      ]
     },
     "execution_count": 111,
     "metadata": {},
     "output_type": "execute_result"
    }
   ],
   "execution_count": 111
  },
  {
   "cell_type": "code",
   "metadata": {
    "ExecuteTime": {
     "end_time": "2025-01-14T08:16:06.891863Z",
     "start_time": "2025-01-14T08:16:06.889832Z"
    }
   },
   "source": [
    "\n",
    "log_reg.coef_"
   ],
   "outputs": [
    {
     "data": {
      "text/plain": [
       "array([[-0.37075602, -0.50440372,  2.72707974,  2.02082242]])"
      ]
     },
     "execution_count": 112,
     "metadata": {},
     "output_type": "execute_result"
    }
   ],
   "execution_count": 112
  },
  {
   "cell_type": "code",
   "metadata": {
    "ExecuteTime": {
     "end_time": "2025-01-14T08:16:06.917358Z",
     "start_time": "2025-01-14T08:16:06.915058Z"
    }
   },
   "source": [
    "log_reg.intercept_"
   ],
   "outputs": [
    {
     "data": {
      "text/plain": [
       "array([-12.92813041])"
      ]
     },
     "execution_count": 113,
     "metadata": {},
     "output_type": "execute_result"
    }
   ],
   "execution_count": 113
  },
  {
   "cell_type": "code",
   "metadata": {
    "ExecuteTime": {
     "end_time": "2025-01-14T08:16:06.952042Z",
     "start_time": "2025-01-14T08:16:06.949206Z"
    }
   },
   "source": [
    "y_pred = log_reg.predict(X=X_test)\n",
    "y_pred"
   ],
   "outputs": [
    {
     "data": {
      "text/plain": [
       "array([False, False,  True, False, False, False, False,  True, False,\n",
       "       False,  True, False, False, False, False, False,  True, False,\n",
       "       False,  True, False,  True, False,  True,  True,  True,  True,\n",
       "        True, False, False, False, False, False, False, False,  True,\n",
       "       False, False])"
      ]
     },
     "execution_count": 114,
     "metadata": {},
     "output_type": "execute_result"
    }
   ],
   "execution_count": 114
  },
  {
   "cell_type": "code",
   "metadata": {
    "ExecuteTime": {
     "end_time": "2025-01-14T08:16:07.007687Z",
     "start_time": "2025-01-14T08:16:07.005023Z"
    }
   },
   "source": [
    "log_reg.predict_proba(X=X_test)"
   ],
   "outputs": [
    {
     "data": {
      "text/plain": [
       "array([[7.95728950e-01, 2.04271050e-01],\n",
       "       [9.99991837e-01, 8.16299257e-06],\n",
       "       [1.70865203e-03, 9.98291348e-01],\n",
       "       [7.87905265e-01, 2.12094735e-01],\n",
       "       [7.19597828e-01, 2.80402172e-01],\n",
       "       [9.99992081e-01, 7.91900582e-06],\n",
       "       [9.82408280e-01, 1.75917197e-02],\n",
       "       [1.81532379e-01, 8.18467621e-01],\n",
       "       [7.37577123e-01, 2.62422877e-01],\n",
       "       [9.67067473e-01, 3.29325267e-02],\n",
       "       [2.69410577e-01, 7.30589423e-01],\n",
       "       [9.99994974e-01, 5.02552015e-06],\n",
       "       [9.99997193e-01, 2.80716303e-06],\n",
       "       [9.99993952e-01, 6.04795343e-06],\n",
       "       [9.99994090e-01, 5.91002909e-06],\n",
       "       [7.06373363e-01, 2.93626637e-01],\n",
       "       [3.19343967e-02, 9.68065603e-01],\n",
       "       [9.67918171e-01, 3.20818295e-02],\n",
       "       [8.25611985e-01, 1.74388015e-01],\n",
       "       [4.72384465e-02, 9.52761553e-01],\n",
       "       [9.99990044e-01, 9.95641512e-06],\n",
       "       [4.26237748e-01, 5.73762252e-01],\n",
       "       [9.99987935e-01, 1.20645561e-05],\n",
       "       [5.72121865e-02, 9.42787813e-01],\n",
       "       [2.36347624e-02, 9.76365238e-01],\n",
       "       [1.29735508e-01, 8.70264492e-01],\n",
       "       [5.83410141e-02, 9.41658986e-01],\n",
       "       [2.47396117e-02, 9.75260388e-01],\n",
       "       [9.99992472e-01, 7.52846329e-06],\n",
       "       [9.99989910e-01, 1.00903721e-05],\n",
       "       [9.99998356e-01, 1.64426201e-06],\n",
       "       [9.99995721e-01, 4.27865532e-06],\n",
       "       [8.95439143e-01, 1.04560857e-01],\n",
       "       [9.99991327e-01, 8.67340993e-06],\n",
       "       [9.99995090e-01, 4.91025074e-06],\n",
       "       [2.78873016e-01, 7.21126984e-01],\n",
       "       [8.33684486e-01, 1.66315514e-01],\n",
       "       [9.99994587e-01, 5.41305984e-06]])"
      ]
     },
     "execution_count": 115,
     "metadata": {},
     "output_type": "execute_result"
    }
   ],
   "execution_count": 115
  },
  {
   "cell_type": "code",
   "metadata": {
    "ExecuteTime": {
     "end_time": "2025-01-14T08:16:07.034986Z",
     "start_time": "2025-01-14T08:16:07.032257Z"
    }
   },
   "source": "log_reg.score(X=X_test, y=y_test)",
   "outputs": [
    {
     "data": {
      "text/plain": [
       "1.0"
      ]
     },
     "execution_count": 116,
     "metadata": {},
     "output_type": "execute_result"
    }
   ],
   "execution_count": 116
  },
  {
   "cell_type": "code",
   "metadata": {
    "ExecuteTime": {
     "end_time": "2025-01-14T08:16:07.064905Z",
     "start_time": "2025-01-14T08:16:07.062167Z"
    }
   },
   "source": [
    "from sklearn.metrics import confusion_matrix, ConfusionMatrixDisplay\n",
    "cm = confusion_matrix(y_true=y_test, y_pred=y_pred, labels=log_reg.classes_)\n",
    "cm"
   ],
   "outputs": [
    {
     "data": {
      "text/plain": [
       "array([[26,  0],\n",
       "       [ 0, 12]])"
      ]
     },
     "execution_count": 117,
     "metadata": {},
     "output_type": "execute_result"
    }
   ],
   "execution_count": 117
  },
  {
   "cell_type": "code",
   "metadata": {
    "ExecuteTime": {
     "end_time": "2025-01-14T08:16:07.145813Z",
     "start_time": "2025-01-14T08:16:07.142674Z"
    }
   },
   "source": [
    "cm_df = pd.DataFrame(confusion_matrix(y_true=y_test, y_pred=y_pred, labels=log_reg.classes_))\n",
    "cm_df"
   ],
   "outputs": [
    {
     "data": {
      "text/plain": [
       "    0   1\n",
       "0  26   0\n",
       "1   0  12"
      ],
      "text/html": [
       "<div>\n",
       "<style scoped>\n",
       "    .dataframe tbody tr th:only-of-type {\n",
       "        vertical-align: middle;\n",
       "    }\n",
       "\n",
       "    .dataframe tbody tr th {\n",
       "        vertical-align: top;\n",
       "    }\n",
       "\n",
       "    .dataframe thead th {\n",
       "        text-align: right;\n",
       "    }\n",
       "</style>\n",
       "<table border=\"1\" class=\"dataframe\">\n",
       "  <thead>\n",
       "    <tr style=\"text-align: right;\">\n",
       "      <th></th>\n",
       "      <th>0</th>\n",
       "      <th>1</th>\n",
       "    </tr>\n",
       "  </thead>\n",
       "  <tbody>\n",
       "    <tr>\n",
       "      <th>0</th>\n",
       "      <td>26</td>\n",
       "      <td>0</td>\n",
       "    </tr>\n",
       "    <tr>\n",
       "      <th>1</th>\n",
       "      <td>0</td>\n",
       "      <td>12</td>\n",
       "    </tr>\n",
       "  </tbody>\n",
       "</table>\n",
       "</div>"
      ]
     },
     "execution_count": 118,
     "metadata": {},
     "output_type": "execute_result"
    }
   ],
   "execution_count": 118
  },
  {
   "cell_type": "code",
   "metadata": {
    "ExecuteTime": {
     "end_time": "2025-01-14T08:16:07.241247Z",
     "start_time": "2025-01-14T08:16:07.187683Z"
    }
   },
   "source": [
    "cm_display = ConfusionMatrixDisplay(\n",
    "    confusion_matrix=cm,\n",
    "    display_labels=log_reg.classes_\n",
    ")\n",
    "cm_display.plot()"
   ],
   "outputs": [
    {
     "data": {
      "text/plain": [
       "<sklearn.metrics._plot.confusion_matrix.ConfusionMatrixDisplay at 0x30d4e2480>"
      ]
     },
     "execution_count": 119,
     "metadata": {},
     "output_type": "execute_result"
    },
    {
     "data": {
      "text/plain": [
       "<Figure size 640x480 with 2 Axes>"
      ],
      "image/png": "[encoded data removed]"
     },
     "metadata": {},
     "output_type": "display_data"
    }
   ],
   "execution_count": 119
  },
  {
   "metadata": {
    "ExecuteTime": {
     "end_time": "2025-01-14T08:16:07.343179Z",
     "start_time": "2025-01-14T08:16:07.253804Z"
    }
   },
   "cell_type": "code",
   "source": [
    "def JFunction(w):\n",
    "    return (w-4)**2+1\n",
    "def JDerivative(w):\n",
    "    return 2*(w-4)\n",
    "\n",
    "# popdunkt a) lambca = 1/3 lub 3/4\n",
    "lr = 3/4\n",
    "n_iter = 4\n",
    "w = 1 \n",
    "w_ls = [w]\n",
    "J_ls = [JFunction(w)] # koszty\n",
    "for i in range(n_iter):\n",
    "    w = w - lr*JDerivative(w)\n",
    "    w_ls.append(w)\n",
    "    J_ls.append(JFunction(w))\n",
    "    \n",
    "w_ls\n",
    "\n",
    "x=np.linspace(0,6,100)\n",
    "plt.figure(figsize=(8,10))\n",
    "plt.plot(x,JFunction(x), label = fr\"$J(s)=(w-4)^2+1$\")\n",
    "plt.scatter(w_ls, J_ls, color='red', label=\"Numberyczne wartosci funkcji kosztu\")\n",
    "for i in range(n_iter-1):\n",
    "    plt.annotate(\" \", xy=(w_ls[i+1], J_ls[i+1]), xytext=(w_ls[i], J_ls[i]), arrowprops={\"width\": 0.3})\n",
    "\n",
    "plt.xlabel(\"w\")\n",
    "plt.ylabel(\"J(s)\")\n",
    "plt.legend()\n",
    "plt.show()"
   ],
   "outputs": [
    {
     "data": {
      "text/plain": [
       "<Figure size 800x1000 with 1 Axes>"
      ],
      "image/png": "[encoded data removed]"
     },
     "metadata": {},
     "output_type": "display_data"
    }
   ],
   "execution_count": 120
  },
  {
   "metadata": {
    "ExecuteTime": {
     "end_time": "2025-01-14T08:16:07.347962Z",
     "start_time": "2025-01-14T08:16:07.346680Z"
    }
   },
   "cell_type": "code",
   "source": "",
   "outputs": [],
   "execution_count": null
  },
  {
   "metadata": {
    "ExecuteTime": {
     "end_time": "2025-01-14T08:16:07.361176Z",
     "start_time": "2025-01-14T08:16:07.358964Z"
    }
   },
   "cell_type": "code",
   "source": [
    "lr = 4/3\n",
    "n_iter = 4\n",
    "w = 1\n",
    "w_ls=[w]\n",
    "J_ls= [JFunction(w)] #koszty\n",
    "for i in range(n_iter):\n",
    "    w=w-lr*JDerivative(w)\n",
    "    w_ls.append(w)\n",
    "    J_ls.append(JFunction(w))\n",
    "\n",
    "w_ls"
   ],
   "outputs": [
    {
     "data": {
      "text/plain": [
       "[1, 9.0, -4.333333333333332, 17.888888888888886, -19.148148148148138]"
      ]
     },
     "execution_count": 121,
     "metadata": {},
     "output_type": "execute_result"
    }
   ],
   "execution_count": 121
  },
  {
   "metadata": {
    "ExecuteTime": {
     "end_time": "2025-01-14T08:16:07.465789Z",
     "start_time": "2025-01-14T08:16:07.379034Z"
    }
   },
   "cell_type": "code",
   "source": [
    "x=np.linspace(-20,20,100)\n",
    "plt.figure(figsize=(8,10))\n",
    "plt.plot(x, JFunction(x), label=fr\"$J(w)=(w-4)^2+1$\")\n",
    "plt.scatter(w_ls, J_ls, color=\"red\", label = \"Numeryczne wartości funkcji kosztu\")\n",
    "for i in range(n_iter-1):\n",
    "    plt.annotate(\" \",xy=(w_ls[i+1], J_ls[i+1]), xytext=(w_ls[i], J_ls[i]), arrowprops={\"width\": 0.3})\n",
    "plt.xlabel(\"w\")\n",
    "plt.ylabel(\"J(w)\")\n",
    "plt.legend()\n",
    "plt.show()"
   ],
   "outputs": [
    {
     "data": {
      "text/plain": [
       "<Figure size 800x1000 with 1 Axes>"
      ],
      "image/png": "[encoded data removed]"
     },
     "metadata": {},
     "output_type": "display_data"
    }
   ],
   "execution_count": 122
  },
  {
   "metadata": {
    "ExecuteTime": {
     "end_time": "2025-01-14T08:16:07.477308Z",
     "start_time": "2025-01-14T08:16:07.475854Z"
    }
   },
   "cell_type": "code",
   "source": [
    "X = np.array([\n",
    "    [1, -2, -1],\n",
    "    [3, 0.5, -3.2]\n",
    "])\n",
    "\n",
    "Y = np.array([\n",
    "    [1, 1, 0]\n",
    "])"
   ],
   "outputs": [],
   "execution_count": 123
  },
  {
   "metadata": {
    "ExecuteTime": {
     "end_time": "2025-01-14T08:16:07.496851Z",
     "start_time": "2025-01-14T08:16:07.495453Z"
    }
   },
   "cell_type": "code",
   "source": [
    "print(X.shape)\n",
    "print(Y.shape)"
   ],
   "outputs": [
    {
     "name": "stdout",
     "output_type": "stream",
     "text": [
      "(2, 3)\n",
      "(1, 3)\n"
     ]
    }
   ],
   "execution_count": 124
  },
  {
   "metadata": {
    "ExecuteTime": {
     "end_time": "2025-01-14T08:16:07.519566Z",
     "start_time": "2025-01-14T08:16:07.517307Z"
    }
   },
   "cell_type": "code",
   "source": [
    "m=X.shape[1]\n",
    "m"
   ],
   "outputs": [
    {
     "data": {
      "text/plain": [
       "3"
      ]
     },
     "execution_count": 125,
     "metadata": {},
     "output_type": "execute_result"
    }
   ],
   "execution_count": 125
  },
  {
   "metadata": {
    "ExecuteTime": {
     "end_time": "2025-01-14T08:16:07.536166Z",
     "start_time": "2025-01-14T08:16:07.534581Z"
    }
   },
   "cell_type": "code",
   "source": [
    "w0 = np.array([\n",
    "    [1],\n",
    "    [2]\n",
    "])\n",
    "b0=1.5\n",
    "w, b=w0, b0"
   ],
   "outputs": [],
   "execution_count": 126
  },
  {
   "metadata": {
    "ExecuteTime": {
     "end_time": "2025-01-14T08:16:07.547357Z",
     "start_time": "2025-01-14T08:16:07.545956Z"
    }
   },
   "cell_type": "code",
   "source": "print(w.shape)",
   "outputs": [
    {
     "name": "stdout",
     "output_type": "stream",
     "text": [
      "(2, 1)\n"
     ]
    }
   ],
   "execution_count": 127
  },
  {
   "metadata": {
    "ExecuteTime": {
     "end_time": "2025-01-14T08:16:07.565640Z",
     "start_time": "2025-01-14T08:16:07.563615Z"
    }
   },
   "cell_type": "code",
   "source": [
    "C = np.array(\n",
    "    [1, 2, 3]\n",
    ")\n",
    "D = np.array(\n",
    "    [2, 3, 4]\n",
    "    )\n",
    "np.dot(C,D)"
   ],
   "outputs": [
    {
     "data": {
      "text/plain": [
       "20"
      ]
     },
     "execution_count": 128,
     "metadata": {},
     "output_type": "execute_result"
    }
   ],
   "execution_count": 128
  },
  {
   "metadata": {
    "ExecuteTime": {
     "end_time": "2025-01-14T08:16:07.590275Z",
     "start_time": "2025-01-14T08:16:07.588258Z"
    }
   },
   "cell_type": "code",
   "source": "C.shape",
   "outputs": [
    {
     "data": {
      "text/plain": [
       "(3,)"
      ]
     },
     "execution_count": 129,
     "metadata": {},
     "output_type": "execute_result"
    }
   ],
   "execution_count": 129
  },
  {
   "metadata": {
    "ExecuteTime": {
     "end_time": "2025-01-14T08:16:07.614611Z",
     "start_time": "2025-01-14T08:16:07.612438Z"
    }
   },
   "cell_type": "code",
   "source": [
    "Z=np.matmul(w.T,X)+b\n",
    "Z"
   ],
   "outputs": [
    {
     "data": {
      "text/plain": [
       "array([[ 8.5,  0.5, -5.9]])"
      ]
     },
     "execution_count": 130,
     "metadata": {},
     "output_type": "execute_result"
    }
   ],
   "execution_count": 130
  },
  {
   "metadata": {
    "ExecuteTime": {
     "end_time": "2025-01-14T08:16:07.643010Z",
     "start_time": "2025-01-14T08:16:07.641248Z"
    }
   },
   "cell_type": "code",
   "source": [
    "for item in [w.T, X, np.dot(w.T,X)]:\n",
    "    print(item.shape)\n",
    "print(b)"
   ],
   "outputs": [
    {
     "name": "stdout",
     "output_type": "stream",
     "text": [
      "(1, 2)\n",
      "(2, 3)\n",
      "(1, 3)\n",
      "1.5\n"
     ]
    }
   ],
   "execution_count": 131
  },
  {
   "metadata": {
    "ExecuteTime": {
     "end_time": "2025-01-14T08:16:07.674066Z",
     "start_time": "2025-01-14T08:16:07.672132Z"
    }
   },
   "cell_type": "code",
   "source": "Z.shape",
   "outputs": [
    {
     "data": {
      "text/plain": [
       "(1, 3)"
      ]
     },
     "execution_count": 132,
     "metadata": {},
     "output_type": "execute_result"
    }
   ],
   "execution_count": 132
  },
  {
   "metadata": {
    "ExecuteTime": {
     "end_time": "2025-01-14T08:16:07.709741Z",
     "start_time": "2025-01-14T08:16:07.707450Z"
    }
   },
   "cell_type": "code",
   "source": [
    "def sigmoid(x):\n",
    "    return 1/(1+np.exp(-x))\n",
    "\n",
    "A=sigmoid(Z)\n",
    "A"
   ],
   "outputs": [
    {
     "data": {
      "text/plain": [
       "array([[0.99979657, 0.62245933, 0.00273196]])"
      ]
     },
     "execution_count": 133,
     "metadata": {},
     "output_type": "execute_result"
    }
   ],
   "execution_count": 133
  },
  {
   "metadata": {
    "ExecuteTime": {
     "end_time": "2025-01-14T08:16:07.740874Z",
     "start_time": "2025-01-14T08:16:07.738910Z"
    }
   },
   "cell_type": "code",
   "source": "A.shape",
   "outputs": [
    {
     "data": {
      "text/plain": [
       "(1, 3)"
      ]
     },
     "execution_count": 134,
     "metadata": {},
     "output_type": "execute_result"
    }
   ],
   "execution_count": 134
  },
  {
   "metadata": {
    "ExecuteTime": {
     "end_time": "2025-01-14T08:16:07.773450Z",
     "start_time": "2025-01-14T08:16:07.771663Z"
    }
   },
   "cell_type": "code",
   "source": "Y.shape",
   "outputs": [
    {
     "data": {
      "text/plain": [
       "(1, 3)"
      ]
     },
     "execution_count": 135,
     "metadata": {},
     "output_type": "execute_result"
    }
   ],
   "execution_count": 135
  },
  {
   "metadata": {
    "ExecuteTime": {
     "end_time": "2025-01-14T08:16:07.826833Z",
     "start_time": "2025-01-14T08:16:07.825009Z"
    }
   },
   "cell_type": "code",
   "source": [
    "print(Y.ndim)\n",
    "print(A.ndim)"
   ],
   "outputs": [
    {
     "name": "stdout",
     "output_type": "stream",
     "text": [
      "2\n",
      "2\n"
     ]
    }
   ],
   "execution_count": 136
  },
  {
   "metadata": {
    "ExecuteTime": {
     "end_time": "2025-01-14T08:16:07.851263Z",
     "start_time": "2025-01-14T08:16:07.849340Z"
    }
   },
   "cell_type": "code",
   "source": [
    "print(Y.reshape(3))\n",
    "print(Y.reshape(3).shape)\n",
    "print(Y.reshape(3).ndim)"
   ],
   "outputs": [
    {
     "name": "stdout",
     "output_type": "stream",
     "text": [
      "[1 1 0]\n",
      "(3,)\n",
      "1\n"
     ]
    }
   ],
   "execution_count": 137
  },
  {
   "metadata": {
    "ExecuteTime": {
     "end_time": "2025-01-14T08:16:07.871852Z",
     "start_time": "2025-01-14T08:16:07.869901Z"
    }
   },
   "cell_type": "code",
   "source": [
    "print(Y.reshape(-1))\n",
    "print(Y.reshape(-1).shape)\n",
    "print(Y.reshape(-1).ndim)"
   ],
   "outputs": [
    {
     "name": "stdout",
     "output_type": "stream",
     "text": [
      "[1 1 0]\n",
      "(3,)\n",
      "1\n"
     ]
    }
   ],
   "execution_count": 138
  },
  {
   "metadata": {
    "ExecuteTime": {
     "end_time": "2025-01-14T08:16:07.887530Z",
     "start_time": "2025-01-14T08:16:07.885446Z"
    }
   },
   "cell_type": "code",
   "source": [
    "J=(\n",
    "    -1/m*(np.dot(Y.reshape(-1), np.log(A).reshape(-1))\n",
    "                 + np.dot((1-Y).reshape(-1), np.log(1-A).reshape(-1)))\n",
    ")\n",
    "J"
   ],
   "outputs": [
    {
     "data": {
      "text/plain": [
       "0.15900537707692405"
      ]
     },
     "execution_count": 139,
     "metadata": {},
     "output_type": "execute_result"
    }
   ],
   "execution_count": 139
  },
  {
   "metadata": {
    "ExecuteTime": {
     "end_time": "2025-01-14T08:16:07.904774Z",
     "start_time": "2025-01-14T08:16:07.902766Z"
    }
   },
   "cell_type": "code",
   "source": "1-Y",
   "outputs": [
    {
     "data": {
      "text/plain": [
       "array([[0, 0, 1]])"
      ]
     },
     "execution_count": 140,
     "metadata": {},
     "output_type": "execute_result"
    }
   ],
   "execution_count": 140
  },
  {
   "metadata": {
    "ExecuteTime": {
     "end_time": "2025-01-14T08:16:07.929921Z",
     "start_time": "2025-01-14T08:16:07.928143Z"
    }
   },
   "cell_type": "code",
   "source": [
    "J=1/m*(np.matmul(Y,np.log(A).T) + np.matmul((1-Y), np.log(1-A).T))\n",
    "print(J)\n",
    "print(J.shape)"
   ],
   "outputs": [
    {
     "name": "stdout",
     "output_type": "stream",
     "text": [
      "[[-0.15900538]]\n",
      "(1, 1)\n"
     ]
    }
   ],
   "execution_count": 141
  },
  {
   "metadata": {
    "ExecuteTime": {
     "end_time": "2025-01-14T08:16:07.953668Z",
     "start_time": "2025-01-14T08:16:07.952177Z"
    }
   },
   "cell_type": "code",
   "source": [
    "J=J[0][0]\n",
    "J"
   ],
   "outputs": [
    {
     "data": {
      "text/plain": [
       "-0.15900537707692405"
      ]
     },
     "execution_count": 142,
     "metadata": {},
     "output_type": "execute_result"
    }
   ],
   "execution_count": 142
  },
  {
   "metadata": {
    "ExecuteTime": {
     "end_time": "2025-01-14T08:16:07.976211Z",
     "start_time": "2025-01-14T08:16:07.974251Z"
    }
   },
   "cell_type": "code",
   "source": [
    "dJdb = (A-Y).mean()\n",
    "dJdb"
   ],
   "outputs": [
    {
     "data": {
      "text/plain": [
       "-0.12500404500439652"
      ]
     },
     "execution_count": 143,
     "metadata": {},
     "output_type": "execute_result"
    }
   ],
   "execution_count": 143
  },
  {
   "metadata": {
    "ExecuteTime": {
     "end_time": "2025-01-14T08:16:08.007729Z",
     "start_time": "2025-01-14T08:16:08.006080Z"
    }
   },
   "cell_type": "code",
   "source": [
    "print(X.shape)\n",
    "print((A-Y).T.shape)"
   ],
   "outputs": [
    {
     "name": "stdout",
     "output_type": "stream",
     "text": [
      "(2, 3)\n",
      "(3, 1)\n"
     ]
    }
   ],
   "execution_count": 144
  },
  {
   "metadata": {
    "ExecuteTime": {
     "end_time": "2025-01-14T08:16:08.027731Z",
     "start_time": "2025-01-14T08:16:08.025560Z"
    }
   },
   "cell_type": "code",
   "source": [
    "dJdw = 1/m*np.matmul(X, (A-Y).T)\n",
    "dJdw"
   ],
   "outputs": [
    {
     "data": {
      "text/plain": [
       "array([[ 0.25071532],\n",
       "       [-0.06604096]])"
      ]
     },
     "execution_count": 145,
     "metadata": {},
     "output_type": "execute_result"
    }
   ],
   "execution_count": 145
  },
  {
   "metadata": {
    "ExecuteTime": {
     "end_time": "2025-01-14T08:16:08.054689Z",
     "start_time": "2025-01-14T08:16:08.053105Z"
    }
   },
   "cell_type": "code",
   "source": [
    "print(dJdw.shape)\n",
    "print(w.shape)"
   ],
   "outputs": [
    {
     "name": "stdout",
     "output_type": "stream",
     "text": [
      "(2, 1)\n",
      "(2, 1)\n"
     ]
    }
   ],
   "execution_count": 146
  },
  {
   "metadata": {
    "ExecuteTime": {
     "end_time": "2025-01-14T08:16:08.076017Z",
     "start_time": "2025-01-14T08:16:08.074532Z"
    }
   },
   "cell_type": "code",
   "source": [
    "lr = 0.001\n",
    "b = b - lr*dJdb\n",
    "w = w - lr*dJdb"
   ],
   "outputs": [],
   "execution_count": 147
  },
  {
   "metadata": {
    "ExecuteTime": {
     "end_time": "2025-01-14T08:16:08.097934Z",
     "start_time": "2025-01-14T08:16:08.096068Z"
    }
   },
   "cell_type": "code",
   "source": [
    "print(f\"b={b}\")\n",
    "print(f\"w={w}\")"
   ],
   "outputs": [
    {
     "name": "stdout",
     "output_type": "stream",
     "text": [
      "b=1.5001250040450045\n",
      "w=[[1.000125]\n",
      " [2.000125]]\n"
     ]
    }
   ],
   "execution_count": 148
  },
  {
   "metadata": {
    "ExecuteTime": {
     "end_time": "2025-01-14T08:16:08.125056Z",
     "start_time": "2025-01-14T08:16:08.122569Z"
    }
   },
   "cell_type": "code",
   "source": [
    "def LogisticRegressionBGD(X, Y, lr=0.009, iter =10, w_init = None, b_init = None):\n",
    "    n = X.shape[0]\n",
    "    m = X.shape[1]\n",
    "    if w_init is None:\n",
    "        w = np.random.rand(n,1)\n",
    "    else:\n",
    "        w = w_init\n",
    "    if b_init is None:\n",
    "        b=np.random.rand()\n",
    "    else:\n",
    "        b=b_init\n",
    "    b_ls = [b]\n",
    "    w_ls = [w]\n",
    "    J_ls =[]\n",
    "\n",
    "    for i in range(iter):\n",
    "        Z=np.matmul(w.T,X)+b\n",
    "        A=sigmoid(Z)\n",
    "        J=-1/m*(np.matmul(Y, np.log(A).T) + np.matmul((1-Y), np.log(1-A).T))[0][0]\n",
    "        dJdb = (A-Y).mean()\n",
    "        dJdw = 1/m*np.matmul(X, (A-Y).T)\n",
    "        b=b-lr*dJdb\n",
    "        w=w-lr*dJdw\n",
    "        b_ls.append(b)\n",
    "        w_ls.append(w)\n",
    "        J_ls.append(J)\n",
    "    return b,w,b_ls,w_ls,J_ls\n"
   ],
   "outputs": [],
   "execution_count": 149
  },
  {
   "metadata": {
    "ExecuteTime": {
     "end_time": "2025-01-14T08:16:08.135659Z",
     "start_time": "2025-01-14T08:16:08.134107Z"
    }
   },
   "cell_type": "code",
   "source": "n_iter = 100",
   "outputs": [],
   "execution_count": 150
  },
  {
   "metadata": {
    "ExecuteTime": {
     "end_time": "2025-01-14T08:16:08.147536Z",
     "start_time": "2025-01-14T08:16:08.144435Z"
    }
   },
   "cell_type": "code",
   "source": [
    "b_optimal, w_optimal, b_values_ls, w_values_ls, J_values_ls = LogisticRegressionBGD(\n",
    "    X, Y, iter=n_iter, w_init=w0, b_init=b0\n",
    ")"
   ],
   "outputs": [],
   "execution_count": 151
  },
  {
   "metadata": {
    "ExecuteTime": {
     "end_time": "2025-01-14T08:16:08.157517Z",
     "start_time": "2025-01-14T08:16:08.155977Z"
    }
   },
   "cell_type": "code",
   "source": [
    "print(f\"b={b_optimal}\")\n",
    "print(f\"w={w_optimal}\")"
   ],
   "outputs": [
    {
     "name": "stdout",
     "output_type": "stream",
     "text": [
      "b=1.5948713189708588\n",
      "w=[[0.80956046]\n",
      " [2.0508202 ]]\n"
     ]
    }
   ],
   "execution_count": 152
  },
  {
   "metadata": {
    "ExecuteTime": {
     "end_time": "2025-01-14T08:16:08.167855Z",
     "start_time": "2025-01-14T08:16:08.166100Z"
    }
   },
   "cell_type": "code",
   "source": "b_values_ls[:5]",
   "outputs": [
    {
     "data": {
      "text/plain": [
       "[1.5,\n",
       " 1.5011250364050395,\n",
       " 1.502245879053189,\n",
       " 1.5033625495626266,\n",
       " 1.5044750694627869]"
      ]
     },
     "execution_count": 153,
     "metadata": {},
     "output_type": "execute_result"
    }
   ],
   "execution_count": 153
  },
  {
   "metadata": {
    "ExecuteTime": {
     "end_time": "2025-01-14T08:16:08.178329Z",
     "start_time": "2025-01-14T08:16:08.176197Z"
    }
   },
   "cell_type": "code",
   "source": "w_values_ls[:5]",
   "outputs": [
    {
     "data": {
      "text/plain": [
       "[array([[1],\n",
       "        [2]]),\n",
       " array([[0.99774356],\n",
       "        [2.00059437]]),\n",
       " array([[0.9954955 ],\n",
       "        [2.00118668]]),\n",
       " array([[0.99325577],\n",
       "        [2.00177696]]),\n",
       " array([[0.99102432],\n",
       "        [2.0023652 ]])]"
      ]
     },
     "execution_count": 154,
     "metadata": {},
     "output_type": "execute_result"
    }
   ],
   "execution_count": 154
  },
  {
   "metadata": {
    "ExecuteTime": {
     "end_time": "2025-01-14T08:16:08.217067Z",
     "start_time": "2025-01-14T08:16:08.186533Z"
    }
   },
   "cell_type": "code",
   "source": [
    "plt.plot(J_values_ls)\n",
    "plt.show()"
   ],
   "outputs": [
    {
     "data": {
      "text/plain": [
       "<Figure size 640x480 with 1 Axes>"
      ],
      "image/png": "[encoded data removed]"
     },
     "metadata": {},
     "output_type": "display_data"
    }
   ],
   "execution_count": 155
  },
  {
   "metadata": {
    "ExecuteTime": {
     "end_time": "2025-01-14T08:16:08.228416Z",
     "start_time": "2025-01-14T08:16:08.226724Z"
    }
   },
   "cell_type": "code",
   "source": [
    "Y_pred = np.zeros((1,m))\n",
    "print(Y_pred)\n",
    "print(Y_pred.shape)"
   ],
   "outputs": [
    {
     "name": "stdout",
     "output_type": "stream",
     "text": [
      "[[0. 0. 0.]]\n",
      "(1, 3)\n"
     ]
    }
   ],
   "execution_count": 156
  },
  {
   "metadata": {
    "ExecuteTime": {
     "end_time": "2025-01-14T08:16:08.240425Z",
     "start_time": "2025-01-14T08:16:08.238124Z"
    }
   },
   "cell_type": "code",
   "source": [
    "Z=np.matmul(w_optimal.T, X)+b_optimal\n",
    "A=sigmoid(Z)\n",
    "A"
   ],
   "outputs": [
    {
     "data": {
      "text/plain": [
       "array([[0.99980782, 0.73128668, 0.00308746]])"
      ]
     },
     "execution_count": 157,
     "metadata": {},
     "output_type": "execute_result"
    }
   ],
   "execution_count": 157
  },
  {
   "metadata": {
    "ExecuteTime": {
     "end_time": "2025-01-14T08:16:08.266752Z",
     "start_time": "2025-01-14T08:16:08.264707Z"
    }
   },
   "cell_type": "code",
   "source": [
    "for i in range(m):\n",
    "    if A[0,i] >= 0.5:\n",
    "        Y_pred[0,i]=1\n",
    "    else:\n",
    "        Y_pred[0,i]=0\n",
    "Y_pred"
   ],
   "outputs": [
    {
     "data": {
      "text/plain": [
       "array([[1., 1., 0.]])"
      ]
     },
     "execution_count": 158,
     "metadata": {},
     "output_type": "execute_result"
    }
   ],
   "execution_count": 158
  },
  {
   "metadata": {
    "ExecuteTime": {
     "end_time": "2025-01-14T08:16:08.339898Z",
     "start_time": "2025-01-14T08:16:08.338064Z"
    }
   },
   "cell_type": "code",
   "source": [
    "Y_pred = np.round(A)\n",
    "Y_pred"
   ],
   "outputs": [
    {
     "data": {
      "text/plain": [
       "array([[1., 1., 0.]])"
      ]
     },
     "execution_count": 159,
     "metadata": {},
     "output_type": "execute_result"
    }
   ],
   "execution_count": 159
  },
  {
   "metadata": {
    "ExecuteTime": {
     "end_time": "2025-01-14T08:16:08.374298Z",
     "start_time": "2025-01-14T08:16:08.371472Z"
    }
   },
   "cell_type": "code",
   "source": [
    "def predict(w, b, X, p_treshold = 0.5):\n",
    "    m = X.shape[1]\n",
    "    Y_pred = np.zeros((1,m))\n",
    "    Z = np.matmul(w.T, X)+b\n",
    "    A = sigmoid(Z)\n",
    "    for i in range(m):\n",
    "        if A[0,i] >= p_treshold:\n",
    "            Y_pred[0,i]=1\n",
    "        else:\n",
    "            Y_pred[0,i]=0\n",
    "    return Y_pred\n",
    "predict(w_optimal, b_optimal, X)\n"
   ],
   "outputs": [
    {
     "data": {
      "text/plain": [
       "array([[1., 1., 0.]])"
      ]
     },
     "execution_count": 160,
     "metadata": {},
     "output_type": "execute_result"
    }
   ],
   "execution_count": 160
  },
  {
   "metadata": {
    "ExecuteTime": {
     "end_time": "2025-01-14T08:16:08.428166Z",
     "start_time": "2025-01-14T08:16:08.422407Z"
    }
   },
   "cell_type": "code",
   "source": [
    "class LogisticRegressionBGDClassifier():\n",
    "    def fit(self, X, Y, lr=0.009, iter = 10, w_init = None, b_init = None, verbose = False):\n",
    "        n = X.shape[0]\n",
    "        m = X.shape[1]\n",
    "        if w_init is None:\n",
    "            w = np.random.rand(n,1)\n",
    "        else:\n",
    "            w = w_init\n",
    "        if b_init is None:\n",
    "            b=np.random.rand()\n",
    "        else:\n",
    "            b=b_init\n",
    "        b_ls = [b]\n",
    "        w_ls = [w]\n",
    "        J_ls =[]\n",
    "\n",
    "        for i in range(iter):\n",
    "            Z=np.matmul(w.T,X)+b\n",
    "            A=sigmoid(Z)\n",
    "            J=-1/m*(np.matmul(Y, np.log(A).T) + np.matmul((1-Y), np.log(1-A).T))[0][0]\n",
    "            dJdb = (A-Y).mean()\n",
    "            dJdw = 1/m*np.matmul(X, (A-Y).T)\n",
    "            b=b-lr*dJdb\n",
    "            w=w-lr*dJdw\n",
    "            b_ls.append(b)\n",
    "            w_ls.append(w)\n",
    "            J_ls.append(J)\n",
    "            if verbose and (i % 100 == 0):\n",
    "                print(f\"Cost after iteration {i}: {J.round(6)}\")\n",
    "\n",
    "        self.intercept_ = b\n",
    "        self.coef_ = w\n",
    "        self.costs_ = J_ls\n",
    "\n",
    "    def predict(self, X, p_treshold = 0.5):\n",
    "        m = X.shape[1]\n",
    "        Y_pred = np.zeros((1,m))\n",
    "        Z = np.matmul(self.coef_.T, X)+self.intercept_\n",
    "        A = sigmoid(Z)\n",
    "        for i in range(m):\n",
    "            if A[0,i] >= p_treshold:\n",
    "                Y_pred[0,i]=1\n",
    "            else:\n",
    "                Y_pred[0,i]=0\n",
    "        return Y_pred\n",
    "\n",
    "    def predict_proba(self, X):\n",
    "        Z = np.matmul(self.coef_.T, X)+self.intercept_\n",
    "        A = sigmoid(Z)\n",
    "        return A\n",
    "\n",
    "    def score(self, X, y):\n",
    "        Y_pred = self.predict(X, p_treshold = 0.5)\n",
    "        return 1 - np.mean(np.abs(Y_pred - y))\n",
    "\n",
    "\n",
    "lr_bdg = LogisticRegressionBGDClassifier()\n",
    "lr_bdg.fit(X, Y, iter = n_iter, w_init = w0, b_init = b0)\n",
    "print(lr_bdg.intercept_)\n",
    "print(lr_bdg.coef_)\n",
    "\n"
   ],
   "outputs": [
    {
     "name": "stdout",
     "output_type": "stream",
     "text": [
      "1.5948713189708588\n",
      "[[0.80956046]\n",
      " [2.0508202 ]]\n"
     ]
    }
   ],
   "execution_count": 161
  },
  {
   "metadata": {
    "ExecuteTime": {
     "end_time": "2025-01-14T08:16:08.467356Z",
     "start_time": "2025-01-14T08:16:08.465202Z"
    }
   },
   "cell_type": "code",
   "source": "lr_bdg.predict(X)",
   "outputs": [
    {
     "data": {
      "text/plain": [
       "array([[1., 1., 0.]])"
      ]
     },
     "execution_count": 162,
     "metadata": {},
     "output_type": "execute_result"
    }
   ],
   "execution_count": 162
  },
  {
   "metadata": {
    "ExecuteTime": {
     "end_time": "2025-01-14T08:16:08.510666Z",
     "start_time": "2025-01-14T08:16:08.508812Z"
    }
   },
   "cell_type": "code",
   "source": "lr_bdg.predict_proba(X)",
   "outputs": [
    {
     "data": {
      "text/plain": [
       "array([[0.99980782, 0.73128668, 0.00308746]])"
      ]
     },
     "execution_count": 163,
     "metadata": {},
     "output_type": "execute_result"
    }
   ],
   "execution_count": 163
  },
  {
   "metadata": {
    "ExecuteTime": {
     "end_time": "2025-01-14T08:16:08.547763Z",
     "start_time": "2025-01-14T08:16:08.545947Z"
    }
   },
   "cell_type": "code",
   "source": [
    "train_dataset = h5py.File(\"data/lr/train_catvnoncat.h5\", \"r\")\n",
    "test_dataset = h5py.File(\"data/lr/test_catvnoncat.h5\", \"r\")"
   ],
   "outputs": [],
   "execution_count": 164
  },
  {
   "metadata": {
    "ExecuteTime": {
     "end_time": "2025-01-14T08:16:08.574412Z",
     "start_time": "2025-01-14T08:16:08.572902Z"
    }
   },
   "cell_type": "code",
   "source": [
    "print(train_dataset.keys())\n",
    "print(test_dataset.keys())"
   ],
   "outputs": [
    {
     "name": "stdout",
     "output_type": "stream",
     "text": [
      "<KeysViewHDF5 ['list_classes', 'train_set_x', 'train_set_y']>\n",
      "<KeysViewHDF5 ['list_classes', 'test_set_x', 'test_set_y']>\n"
     ]
    }
   ],
   "execution_count": 165
  },
  {
   "metadata": {
    "ExecuteTime": {
     "end_time": "2025-01-14T08:16:08.596297Z",
     "start_time": "2025-01-14T08:16:08.593436Z"
    }
   },
   "cell_type": "code",
   "source": [
    "X_train = train_dataset[\"train_set_x\"][:] # Use [:] to select all dataset\n",
    "y_train = train_dataset[\"train_set_y\"][:]\n",
    "X_test = test_dataset[\"test_set_x\"][:]\n",
    "y_test = test_dataset[\"test_set_y\"][:]\n",
    "classes = train_dataset[\"list_classes\"][:]"
   ],
   "outputs": [],
   "execution_count": 166
  },
  {
   "metadata": {
    "ExecuteTime": {
     "end_time": "2025-01-14T08:16:08.623169Z",
     "start_time": "2025-01-14T08:16:08.621220Z"
    }
   },
   "cell_type": "code",
   "source": "classes",
   "outputs": [
    {
     "data": {
      "text/plain": [
       "array([b'non-cat', b'cat'], dtype='|S7')"
      ]
     },
     "execution_count": 167,
     "metadata": {},
     "output_type": "execute_result"
    }
   ],
   "execution_count": 167
  },
  {
   "metadata": {
    "ExecuteTime": {
     "end_time": "2025-01-14T08:16:08.643016Z",
     "start_time": "2025-01-14T08:16:08.641416Z"
    }
   },
   "cell_type": "code",
   "source": [
    "print(X_train.shape)\n",
    "print(y_train.shape)\n",
    "print(X_test.shape)\n",
    "print(y_test.shape)"
   ],
   "outputs": [
    {
     "name": "stdout",
     "output_type": "stream",
     "text": [
      "(209, 64, 64, 3)\n",
      "(209,)\n",
      "(50, 64, 64, 3)\n",
      "(50,)\n"
     ]
    }
   ],
   "execution_count": 168
  },
  {
   "metadata": {
    "ExecuteTime": {
     "end_time": "2025-01-14T08:16:08.661216Z",
     "start_time": "2025-01-14T08:16:08.659227Z"
    }
   },
   "cell_type": "code",
   "source": [
    "num_px = X_train.shape[1]\n",
    "num_px"
   ],
   "outputs": [
    {
     "data": {
      "text/plain": [
       "64"
      ]
     },
     "execution_count": 169,
     "metadata": {},
     "output_type": "execute_result"
    }
   ],
   "execution_count": 169
  },
  {
   "metadata": {
    "ExecuteTime": {
     "end_time": "2025-01-14T08:16:08.681530Z",
     "start_time": "2025-01-14T08:16:08.679287Z"
    }
   },
   "cell_type": "code",
   "source": [
    "index = 2\n",
    "X_train[index]"
   ],
   "outputs": [
    {
     "data": {
      "text/plain": [
       "array([[[ 82,  71,  68],\n",
       "        [ 89,  83,  83],\n",
       "        [100,  98, 104],\n",
       "        ...,\n",
       "        [131, 132, 137],\n",
       "        [126, 124, 124],\n",
       "        [105,  97,  95]],\n",
       "\n",
       "       [[ 95,  91,  97],\n",
       "        [104, 104, 113],\n",
       "        [110, 115, 126],\n",
       "        ...,\n",
       "        [135, 134, 135],\n",
       "        [127, 122, 119],\n",
       "        [111, 105, 103]],\n",
       "\n",
       "       [[ 94,  85,  83],\n",
       "        [ 97,  89,  90],\n",
       "        [110, 109, 115],\n",
       "        ...,\n",
       "        [136, 134, 131],\n",
       "        [127, 120, 117],\n",
       "        [116, 108, 104]],\n",
       "\n",
       "       ...,\n",
       "\n",
       "       [[ 96, 116, 131],\n",
       "        [ 97, 115, 130],\n",
       "        [103, 123, 139],\n",
       "        ...,\n",
       "        [152, 155, 157],\n",
       "        [146, 149, 152],\n",
       "        [130, 133, 134]],\n",
       "\n",
       "       [[ 90, 108, 123],\n",
       "        [ 92, 108, 121],\n",
       "        [100, 119, 134],\n",
       "        ...,\n",
       "        [150, 152, 155],\n",
       "        [144, 146, 147],\n",
       "        [134, 135, 134]],\n",
       "\n",
       "       [[ 86, 102, 116],\n",
       "        [ 87, 103, 115],\n",
       "        [ 94, 114, 127],\n",
       "        ...,\n",
       "        [154, 156, 160],\n",
       "        [146, 148, 152],\n",
       "        [138, 141, 142]]], dtype=uint8)"
      ]
     },
     "execution_count": 170,
     "metadata": {},
     "output_type": "execute_result"
    }
   ],
   "execution_count": 170
  },
  {
   "metadata": {
    "ExecuteTime": {
     "end_time": "2025-01-14T08:16:08.729181Z",
     "start_time": "2025-01-14T08:16:08.694390Z"
    }
   },
   "cell_type": "code",
   "source": [
    "plt.imshow(X_train[index])\n",
    "print(f\"Wartosc etykiety: {y_train[index]}\")\n",
    "print(f\"This is a {classes[y_train[index]]} picture.\")"
   ],
   "outputs": [
    {
     "name": "stdout",
     "output_type": "stream",
     "text": [
      "Wartosc etykiety: 1\n",
      "This is a b'cat' picture.\n"
     ]
    },
    {
     "data": {
      "text/plain": [
       "<Figure size 640x480 with 1 Axes>"
      ],
      "image/png": "[encoded data removed]"
     },
     "metadata": {},
     "output_type": "display_data"
    }
   ],
   "execution_count": 171
  },
  {
   "metadata": {
    "ExecuteTime": {
     "end_time": "2025-01-14T08:16:08.741514Z",
     "start_time": "2025-01-14T08:16:08.739178Z"
    }
   },
   "cell_type": "code",
   "source": "y_train",
   "outputs": [
    {
     "data": {
      "text/plain": [
       "array([0, 0, 1, 0, 0, 0, 0, 1, 0, 0, 0, 1, 0, 1, 1, 0, 0, 0, 0, 1, 0, 0,\n",
       "       0, 0, 1, 1, 0, 1, 0, 1, 0, 0, 0, 0, 0, 0, 0, 0, 1, 0, 0, 1, 1, 0,\n",
       "       0, 0, 0, 1, 0, 0, 1, 0, 0, 0, 1, 0, 1, 1, 0, 1, 1, 1, 0, 0, 0, 0,\n",
       "       0, 0, 1, 0, 0, 1, 0, 0, 0, 0, 0, 0, 0, 0, 0, 0, 0, 1, 1, 0, 0, 0,\n",
       "       1, 0, 0, 0, 1, 1, 1, 0, 0, 1, 0, 0, 0, 0, 1, 0, 1, 0, 1, 1, 1, 1,\n",
       "       1, 1, 0, 0, 0, 0, 0, 1, 0, 0, 0, 1, 0, 0, 1, 0, 1, 0, 1, 1, 0, 0,\n",
       "       0, 1, 1, 1, 1, 1, 0, 0, 0, 0, 1, 0, 1, 1, 1, 0, 1, 1, 0, 0, 0, 1,\n",
       "       0, 0, 1, 0, 0, 0, 0, 0, 1, 0, 1, 0, 1, 0, 0, 1, 1, 1, 0, 0, 1, 1,\n",
       "       0, 1, 0, 1, 0, 0, 0, 0, 0, 1, 0, 0, 1, 0, 0, 0, 1, 0, 0, 0, 0, 1,\n",
       "       0, 0, 1, 0, 0, 0, 0, 0, 0, 0, 0])"
      ]
     },
     "execution_count": 172,
     "metadata": {},
     "output_type": "execute_result"
    }
   ],
   "execution_count": 172
  },
  {
   "metadata": {
    "ExecuteTime": {
     "end_time": "2025-01-14T08:16:08.753114Z",
     "start_time": "2025-01-14T08:16:08.751068Z"
    }
   },
   "cell_type": "code",
   "source": [
    "X_3x3 = np.array(\n",
    "    [\n",
    "        [1,2,3],\n",
    "        [4,5,6],\n",
    "        [7,8,9],\n",
    "    ]\n",
    ")\n",
    "\n",
    "X_3x3"
   ],
   "outputs": [
    {
     "data": {
      "text/plain": [
       "array([[1, 2, 3],\n",
       "       [4, 5, 6],\n",
       "       [7, 8, 9]])"
      ]
     },
     "execution_count": 173,
     "metadata": {},
     "output_type": "execute_result"
    }
   ],
   "execution_count": 173
  },
  {
   "metadata": {
    "ExecuteTime": {
     "end_time": "2025-01-14T08:16:08.777972Z",
     "start_time": "2025-01-14T08:16:08.775957Z"
    }
   },
   "cell_type": "code",
   "source": "X_3x3.reshape(9,1)",
   "outputs": [
    {
     "data": {
      "text/plain": [
       "array([[1],\n",
       "       [2],\n",
       "       [3],\n",
       "       [4],\n",
       "       [5],\n",
       "       [6],\n",
       "       [7],\n",
       "       [8],\n",
       "       [9]])"
      ]
     },
     "execution_count": 174,
     "metadata": {},
     "output_type": "execute_result"
    }
   ],
   "execution_count": 174
  },
  {
   "metadata": {
    "ExecuteTime": {
     "end_time": "2025-01-14T08:16:08.815607Z",
     "start_time": "2025-01-14T08:16:08.813595Z"
    }
   },
   "cell_type": "code",
   "source": "X_3x3.reshape(-1, 1)",
   "outputs": [
    {
     "data": {
      "text/plain": [
       "array([[1],\n",
       "       [2],\n",
       "       [3],\n",
       "       [4],\n",
       "       [5],\n",
       "       [6],\n",
       "       [7],\n",
       "       [8],\n",
       "       [9]])"
      ]
     },
     "execution_count": 175,
     "metadata": {},
     "output_type": "execute_result"
    }
   ],
   "execution_count": 175
  },
  {
   "metadata": {
    "ExecuteTime": {
     "end_time": "2025-01-14T08:16:08.852811Z",
     "start_time": "2025-01-14T08:16:08.851112Z"
    }
   },
   "cell_type": "code",
   "source": "X_train.shape",
   "outputs": [
    {
     "data": {
      "text/plain": [
       "(209, 64, 64, 3)"
      ]
     },
     "execution_count": 176,
     "metadata": {},
     "output_type": "execute_result"
    }
   ],
   "execution_count": 176
  },
  {
   "metadata": {
    "ExecuteTime": {
     "end_time": "2025-01-14T08:16:08.884666Z",
     "start_time": "2025-01-14T08:16:08.882664Z"
    }
   },
   "cell_type": "code",
   "source": [
    "X_train = X_train.reshape(X_train.shape[0], -1).T\n",
    "X_train.shape"
   ],
   "outputs": [
    {
     "data": {
      "text/plain": [
       "(12288, 209)"
      ]
     },
     "execution_count": 177,
     "metadata": {},
     "output_type": "execute_result"
    }
   ],
   "execution_count": 177
  },
  {
   "metadata": {
    "ExecuteTime": {
     "end_time": "2025-01-14T08:16:08.914495Z",
     "start_time": "2025-01-14T08:16:08.911631Z"
    }
   },
   "cell_type": "code",
   "source": [
    "X_test = X_test.reshape(X_test.shape[0], -1).T\n",
    "X_test.shape"
   ],
   "outputs": [
    {
     "data": {
      "text/plain": [
       "(12288, 50)"
      ]
     },
     "execution_count": 178,
     "metadata": {},
     "output_type": "execute_result"
    }
   ],
   "execution_count": 178
  },
  {
   "metadata": {
    "ExecuteTime": {
     "end_time": "2025-01-14T08:16:08.952360Z",
     "start_time": "2025-01-14T08:16:08.947127Z"
    }
   },
   "cell_type": "code",
   "source": [
    "X_train = X_train / 255\n",
    "X_test = X_test / 255\n",
    "\n",
    "X_train"
   ],
   "outputs": [
    {
     "data": {
      "text/plain": [
       "array([[0.06666667, 0.76862745, 0.32156863, ..., 0.56078431, 0.08627451,\n",
       "        0.03137255],\n",
       "       [0.12156863, 0.75294118, 0.27843137, ..., 0.60784314, 0.09411765,\n",
       "        0.10980392],\n",
       "       [0.21960784, 0.74509804, 0.26666667, ..., 0.64705882, 0.09019608,\n",
       "        0.20784314],\n",
       "       ...,\n",
       "       [0.        , 0.32156863, 0.54117647, ..., 0.33333333, 0.01568627,\n",
       "        0.        ],\n",
       "       [0.        , 0.31372549, 0.55294118, ..., 0.41960784, 0.01960784,\n",
       "        0.        ],\n",
       "       [0.        , 0.31764706, 0.55686275, ..., 0.58431373, 0.        ,\n",
       "        0.        ]])"
      ]
     },
     "execution_count": 179,
     "metadata": {},
     "output_type": "execute_result"
    }
   ],
   "execution_count": 179
  },
  {
   "metadata": {
    "ExecuteTime": {
     "end_time": "2025-01-14T08:16:08.981706Z",
     "start_time": "2025-01-14T08:16:08.979565Z"
    }
   },
   "cell_type": "code",
   "source": "X_test.shape",
   "outputs": [
    {
     "data": {
      "text/plain": [
       "(12288, 50)"
      ]
     },
     "execution_count": 180,
     "metadata": {},
     "output_type": "execute_result"
    }
   ],
   "execution_count": 180
  },
  {
   "metadata": {
    "ExecuteTime": {
     "end_time": "2025-01-14T08:16:09.062113Z",
     "start_time": "2025-01-14T08:16:09.060499Z"
    }
   },
   "cell_type": "code",
   "source": [
    "print(y_train.shape)\n",
    "print(y_test.shape)"
   ],
   "outputs": [
    {
     "name": "stdout",
     "output_type": "stream",
     "text": [
      "(209,)\n",
      "(50,)\n"
     ]
    }
   ],
   "execution_count": 181
  },
  {
   "metadata": {
    "ExecuteTime": {
     "end_time": "2025-01-14T08:16:09.066310Z",
     "start_time": "2025-01-14T08:16:09.064804Z"
    }
   },
   "cell_type": "code",
   "source": [
    "y_train = y_train.reshape(1, -1)\n",
    "y_test = y_test.reshape(1, -1)"
   ],
   "outputs": [],
   "execution_count": 182
  },
  {
   "metadata": {
    "ExecuteTime": {
     "end_time": "2025-01-14T08:16:09.081510Z",
     "start_time": "2025-01-14T08:16:09.079975Z"
    }
   },
   "cell_type": "code",
   "source": [
    "print(y_train.shape)\n",
    "print(y_test.shape)"
   ],
   "outputs": [
    {
     "name": "stdout",
     "output_type": "stream",
     "text": [
      "(1, 209)\n",
      "(1, 50)\n"
     ]
    }
   ],
   "execution_count": 183
  },
  {
   "metadata": {
    "ExecuteTime": {
     "end_time": "2025-01-14T08:16:11.322194Z",
     "start_time": "2025-01-14T08:16:09.154876Z"
    }
   },
   "cell_type": "code",
   "source": [
    "lr = 0.005\n",
    "n_iter = 2000\n",
    "w0, b0 = np.zeros((X_train.shape[0], 1)), 0.0\n",
    "lr_bgd_clf = LogisticRegressionBGDClassifier()\n",
    "lr_bgd_clf.fit(X=X_train, Y=y_train, lr=lr, iter=n_iter, w_init=w0, b_init=b0, verbose=True)\n",
    "print(f\"b = {lr_bgd_clf.intercept_}\")\n",
    "print(f\"w = {lr_bgd_clf.coef_}\")"
   ],
   "outputs": [
    {
     "name": "stdout",
     "output_type": "stream",
     "text": [
      "Cost after iteration 0: 0.693147\n",
      "Cost after iteration 100: 0.584508\n",
      "Cost after iteration 200: 0.466949\n",
      "Cost after iteration 300: 0.376007\n",
      "Cost after iteration 400: 0.331463\n",
      "Cost after iteration 500: 0.303273\n",
      "Cost after iteration 600: 0.27988\n",
      "Cost after iteration 700: 0.260042\n",
      "Cost after iteration 800: 0.242941\n",
      "Cost after iteration 900: 0.228004\n",
      "Cost after iteration 1000: 0.21482\n",
      "Cost after iteration 1100: 0.203078\n",
      "Cost after iteration 1200: 0.192544\n",
      "Cost after iteration 1300: 0.183033\n",
      "Cost after iteration 1400: 0.174399\n",
      "Cost after iteration 1500: 0.166521\n",
      "Cost after iteration 1600: 0.159305\n",
      "Cost after iteration 1700: 0.152667\n",
      "Cost after iteration 1800: 0.146542\n",
      "Cost after iteration 1900: 0.140872\n",
      "b = -0.01590624399969298\n",
      "w = [[ 0.00961402]\n",
      " [-0.0264683 ]\n",
      " [-0.01226513]\n",
      " ...\n",
      " [-0.01144453]\n",
      " [-0.02944783]\n",
      " [ 0.02378106]]\n"
     ]
    }
   ],
   "execution_count": 184
  },
  {
   "metadata": {},
   "cell_type": "code",
   "outputs": [],
   "execution_count": null,
   "source": [
    "print(f\"Train accuracy: {lr_bgd_clf.score(X=X_train, y=y_train)}\")\n",
    "print(f\"Test accuracy: {lr_bgd_clf.score(X=X_test, y=y_test)}\")\n"
   ]
  },
  {
   "metadata": {},
   "cell_type": "code",
   "outputs": [],
   "execution_count": null,
   "source": "X_train.shape"
  },
  {
   "metadata": {},
   "cell_type": "code",
   "outputs": [],
   "execution_count": null,
   "source": "y_test.shape"
  },
  {
   "metadata": {},
   "cell_type": "code",
   "outputs": [],
   "execution_count": null,
   "source": [
    "y_pred = lr_bgd_clf.predict(X_test)\n",
    "index = 5\n",
    "plt.imshow(X_test[:, index].reshape((num_px, num_px, 3)))\n",
    "print(f\"y = {y_test[0,index]}, it means this is a {classes[y_test[0,index]]} picture.\")\n",
    "print(f\"y = {y_pred[0,index]}, it means a model precited this is a {classes[int(y_pred[0,index])]} picture\")"
   ]
  },
  {
   "metadata": {},
   "cell_type": "code",
   "outputs": [],
   "execution_count": null,
   "source": [
    "plt.plot(lr_bgd_clf.costs_)\n",
    "plt.ylabel('Cost')\n",
    "plt.xlabel('Iteration')\n",
    "plt.title(\"Cost on training data\")\n",
    "plt.show()"
   ]
  },
  {
   "metadata": {},
   "cell_type": "code",
   "outputs": [],
   "execution_count": null,
   "source": [
    "plt.plot(lr_bgd_clf.costs_)\n",
    "plt.ylabel('Cost')\n",
    "plt.xlabel('Iteration')\n",
    "plt.title(\"Cost on training data\")\n",
    "plt.xlim(0,250)\n",
    "plt.show()"
   ]
  },
  {
   "metadata": {},
   "cell_type": "code",
   "outputs": [],
   "execution_count": null,
   "source": [
    "learning_rates = [0.01, 0.001, 0.0001]\n",
    "\n",
    "for lr in learning_rates:\n",
    "    print(f\"Training a model with learning rate: {lr}\")\n",
    "    lr_bgd = LogisticRegressionBGDClassifier()\n",
    "    lr_bgd.fit(X=X_train, Y=y_train, lr = lr, iter=n_iter, w_init=w0, b_init=b0, verbose=False)\n",
    "    plt.plot(lr_bgd.costs_, label=f\"learrning rate = {lr}\")\n",
    "\n",
    "\n",
    "plt.ylabel('Cost')\n",
    "plt.xlabel(\"Iteration\")\n",
    "plt.title(\"Cost on training data dpending on learning rate\")\n",
    "plt.legend()\n",
    "plt.show()"
   ]
  },
  {
   "metadata": {},
   "cell_type": "code",
   "outputs": [],
   "execution_count": null,
   "source": [
    "filename = \"my_image.jpg\"\n",
    "filepath = \"data/\" + filename\n",
    "my_image = np.array(Image.open(filepath).resize(\n",
    "    (num_px, num_px)))\n",
    "print(my_image.shape)\n",
    "plt.imshow(my_image)\n",
    "my_image = my_image / 255\n",
    "my_image = my_image.reshape((1, num_px * num_px * 3)).T"
   ]
  },
  {
   "metadata": {},
   "cell_type": "code",
   "outputs": [],
   "execution_count": null,
   "source": "my_image.shape"
  },
  {
   "metadata": {},
   "cell_type": "code",
   "outputs": [],
   "execution_count": null,
   "source": [
    "y_pred = lr_bgd_clf.predict(my_image)\n",
    "print(f\"y = {y_pred[0,0]} it means a model predicted this is a {classes[int(y_pred[0,0])]} picture.\")"
   ]
  }
 ],
 "metadata": {
  "kernelspec": {
   "display_name": "base",
   "language": "python",
   "name": "python3"
  },
  "language_info": {
   "codemirror_mode": {
    "name": "ipython",
    "version": 3
   },
   "file_extension": ".py",
   "mimetype": "text/x-python",
   "name": "python",
   "nbconvert_exporter": "python",
   "pygments_lexer": "ipython3",
   "version": "3.9.13"
  }
 },
 "nbformat": 4,
 "nbformat_minor": 2
}
