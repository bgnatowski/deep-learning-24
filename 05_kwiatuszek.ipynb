{
 "cells": [
  {
   "cell_type": "code",
   "execution_count": 96,
   "metadata": {},
   "outputs": [],
   "source": [
    "import numpy as np\n",
    "import matplotlib.pyplot as plt\n",
    "from sklearn.linear_model import LogisticRegression\n",
    "from sklearn.metrics import confusion_matrix, ConfusionMatrixDisplay, acyaccur_score\n",
    "import copy\n",
    "np.random.seed(42)"
   ]
  },
  {
   "cell_type": "code",
   "execution_count": 97,
   "metadata": {},
   "outputs": [],
   "source": [
    "def load_planar_dataset():\n",
    "    np.random.seed(1)\n",
    "    m = 400\n",
    "    N = int(m/2)\n",
    "    D = 2\n",
    "    X = np.zeros((m,D))\n",
    "    Y = np.zeros((m,1), dtype='uint8')\n",
    "    a = 4\n",
    "\n",
    "    for j in range(2):\n",
    "        ix = range(N*j, N*(j+1))\n",
    "        t = np.linspace(j*3.12,(j+1)*3.12,N) + np.random.randn(N)*0.2\n",
    "        r = a*np.sin(4*t)+np.random.randn(N)*0.2\n",
    "        X[ix]=np.c_[r*np.sin(t), r*np.cos(t)]\n",
    "        Y[ix]=j\n",
    "\n",
    "    X = X.T\n",
    "    Y = Y.T\n",
    "\n",
    "    return X, Y"
   ]
  },
  {
   "cell_type": "code",
   "execution_count": 98,
   "metadata": {},
   "outputs": [],
   "source": [
    "X, Y = load_planar_dataset()"
   ]
  },
  {
   "cell_type": "code",
   "execution_count": 99,
   "metadata": {},
   "outputs": [
    {
     "data": {
      "text/plain": [
       "array([[ 1.20444229e+00,  1.58709904e-01,  9.52471960e-02,\n",
       "         3.49178475e-01,  6.94150378e-01,  1.62065038e+00,\n",
       "         1.53856225e+00,  3.63085641e-02,  4.74591109e-01,\n",
       "         1.65695828e-01,  1.66446249e+00,  8.40285720e-01,\n",
       "         2.61695163e-01,  2.31614896e-01,  1.58013020e+00,\n",
       "         6.35509950e-03,  6.80610419e-01,  1.21400432e-01,\n",
       "         1.13281261e+00,  1.61505892e+00,  1.66454441e-01,\n",
       "         1.72438241e+00,  1.88667246e+00,  1.72327227e+00,\n",
       "         1.54661332e+00,  9.84590400e-01,  1.45313345e+00,\n",
       "         7.49043388e-01,  1.45048341e+00,  1.64287865e+00,\n",
       "         1.28141487e+00,  1.59574104e+00,  1.46298294e+00,\n",
       "         1.46629048e+00,  1.54348961e+00,  1.57013416e+00,\n",
       "         1.22995404e+00,  1.31142345e+00, -1.99364553e+00,\n",
       "         3.94564752e-01,  1.51715449e+00,  1.69169139e+00,\n",
       "         1.74186686e+00, -2.91373382e+00,  7.52150898e-01,\n",
       "         1.68537303e+00,  3.71160238e-01, -3.73033884e+00,\n",
       "         3.52484080e-01, -1.48694206e+00, -7.45290416e-01,\n",
       "         5.63807442e-01,  1.27093179e+00,  5.35133607e-01,\n",
       "        -1.71330375e-01, -2.50197293e+00, -2.63275448e+00,\n",
       "        -3.15561550e+00, -2.11022490e+00, -3.51303563e+00,\n",
       "        -3.52018155e-02, -3.99843114e+00, -3.08095445e+00,\n",
       "        -1.79023024e+00, -3.37520544e+00, -2.38578575e+00,\n",
       "        -3.54741267e+00, -2.92344384e+00, -1.01009705e+00,\n",
       "        -3.02185838e-01, -1.47947199e-01, -2.41113498e+00,\n",
       "        -3.52065970e+00, -3.09762480e+00, -3.86453574e+00,\n",
       "         3.46287902e-02, -3.81297733e+00, -2.54941164e+00,\n",
       "        -3.61833546e+00, -2.31720968e+00, -3.85843301e+00,\n",
       "        -3.77182528e+00, -3.22643424e+00, -2.49748107e+00,\n",
       "        -2.94157976e+00, -2.91391859e+00, -3.70623964e+00,\n",
       "        -1.95265709e+00, -2.66020434e+00,  8.17304141e-01,\n",
       "         1.21768512e+00, -1.66246175e+00, -2.75111411e+00,\n",
       "        -3.31873701e+00, -2.14063182e-01, -1.09902222e+00,\n",
       "        -1.94767785e+00, -4.99991014e-01, -2.52618507e+00,\n",
       "         1.96360773e+00, -1.02715843e+00,  3.03248341e+00,\n",
       "         1.51559027e+00,  2.21864283e+00, -2.40385821e+00,\n",
       "         2.00630521e+00,  3.17911628e+00, -1.45188351e+00,\n",
       "         1.21496393e+00,  2.04613301e+00, -1.62182614e+00,\n",
       "         3.17993200e+00,  3.96799188e+00,  3.29897728e-01,\n",
       "         4.07816588e+00, -3.17566012e-01,  3.31129113e+00,\n",
       "        -9.52809386e-01,  3.03768998e+00,  3.55052992e+00,\n",
       "         3.55990775e+00,  2.33663285e+00,  2.31352433e+00,\n",
       "         2.79495212e-01,  1.51862547e-01,  1.96155941e+00,\n",
       "         5.47353260e-01,  3.49044034e+00,  2.72566042e+00,\n",
       "         2.13606508e+00,  3.67042248e+00,  3.92260947e+00,\n",
       "         3.08862031e+00,  1.92948433e+00,  1.38946995e+00,\n",
       "         3.51428218e+00,  1.13035696e+00,  3.33545460e+00,\n",
       "         9.15905230e-03,  1.68097254e+00,  2.30710971e+00,\n",
       "         2.21404832e+00, -5.31842726e-01, -3.45874829e-01,\n",
       "        -9.83826601e-02,  6.55029428e-01,  5.83612433e-01,\n",
       "        -7.68172854e-01, -5.52725703e-02, -1.25961956e+00,\n",
       "         9.42805936e-01,  3.77681531e+00, -1.70922458e+00,\n",
       "        -1.08169517e+00, -1.40307039e+00, -6.43634519e-01,\n",
       "        -6.32543454e-01, -8.53713550e-01, -1.22772526e+00,\n",
       "         9.50740231e-01, -5.97375125e-01,  5.01933176e-01,\n",
       "        -1.88988467e+00, -1.23602220e+00, -1.74861600e+00,\n",
       "        -1.48828262e+00, -1.27810421e+00, -1.99338361e+00,\n",
       "        -6.80758371e-02,  1.07968241e+00, -1.49733014e+00,\n",
       "        -1.02248497e+00, -6.88068627e-02, -1.77284297e+00,\n",
       "        -1.42903599e+00, -1.63191608e+00, -1.57413453e-01,\n",
       "        -1.69732959e+00, -7.20691107e-01, -1.49836618e+00,\n",
       "        -1.53285135e+00, -7.83079289e-01, -5.65545945e-01,\n",
       "        -4.28247557e-03, -9.54816172e-01, -1.43027299e+00,\n",
       "        -1.99139039e-01, -3.93228458e-01, -3.13917579e-01,\n",
       "        -5.55629383e-01, -5.61729204e-02, -5.84257606e-02,\n",
       "        -8.07037000e-01, -1.86016879e-01, -9.65590226e-03,\n",
       "        -1.52664558e+00, -2.32543323e-02, -2.11665124e-02,\n",
       "        -2.37912887e-01, -5.85846410e-01, -1.07049581e+00,\n",
       "        -2.32905994e-03, -9.27980849e-02, -9.24081181e-01,\n",
       "        -4.27415411e-02, -7.88306156e-02, -1.35471230e+00,\n",
       "        -9.64506801e-02, -4.88903965e-01, -1.40428145e+00,\n",
       "        -1.03032194e-01, -1.76823043e+00, -1.81435331e+00,\n",
       "        -4.03453231e-01, -1.13007684e+00, -3.30143778e-01,\n",
       "        -1.03592948e-01, -1.62823990e+00, -1.27072988e+00,\n",
       "        -3.24165041e-01, -8.31515613e-01, -1.15541550e+00,\n",
       "        -8.81319474e-01, -5.14135967e-01, -3.41907953e-01,\n",
       "        -1.50008474e+00, -1.09546543e+00, -1.71840632e+00,\n",
       "        -1.68448953e+00, -1.23608462e+00, -8.06782295e-01,\n",
       "        -1.06026703e+00, -1.25449646e+00, -1.71040125e+00,\n",
       "        -4.54245598e-01, -1.78717499e+00, -1.26536725e+00,\n",
       "        -2.93821146e-01, -4.04645730e-01,  2.03128629e+00,\n",
       "        -1.02564465e+00, -1.07882287e+00, -1.48728331e+00,\n",
       "         1.52973464e+00, -1.39893030e+00, -3.67322611e-01,\n",
       "        -1.53385549e+00,  1.75371064e+00, -1.15897743e+00,\n",
       "         2.94968569e+00, -1.38165997e+00,  2.41200118e+00,\n",
       "         1.48331333e+00, -1.29300070e+00,  3.02838862e+00,\n",
       "        -1.14374794e+00, -1.06870636e+00,  2.70728746e+00,\n",
       "        -2.29022863e-01,  1.80385877e-01,  7.87999977e-01,\n",
       "        -1.65291432e-01,  3.73979818e+00,  3.48775653e+00,\n",
       "         2.08377776e+00,  2.36553487e+00,  3.47039369e+00,\n",
       "         2.42914859e+00,  3.90210781e+00,  2.03812322e+00,\n",
       "         4.04388429e+00,  3.15341019e+00,  3.09441731e+00,\n",
       "         1.00077505e+00,  3.22109077e+00,  3.03895157e+00,\n",
       "        -1.10566174e-01,  1.45338553e+00,  3.42704770e+00,\n",
       "         3.16377425e+00,  3.06435279e+00,  2.97153034e+00,\n",
       "         3.66817242e+00,  1.81576373e+00, -6.52056092e-01,\n",
       "         2.39565436e+00, -1.83495474e-02, -1.85426248e+00,\n",
       "        -7.55084589e-02,  3.68327360e+00,  3.01854545e+00,\n",
       "         6.67169560e-01,  3.21959504e+00,  6.71420203e-01,\n",
       "         3.62660798e+00,  3.41692475e+00, -4.99555802e-01,\n",
       "         2.82564692e+00,  3.67261725e+00,  7.88007167e-01,\n",
       "         3.86155325e+00, -2.85587710e-01,  2.28420287e+00,\n",
       "         2.81396650e-01,  3.13503544e-01, -1.43368358e+00,\n",
       "         9.57195160e-01, -1.85436896e+00,  3.81805817e-01,\n",
       "        -2.78967630e+00, -3.28548806e+00, -2.22349866e+00,\n",
       "        -2.78061591e+00,  8.26303188e-01, -3.72885115e+00,\n",
       "        -1.23292968e+00, -9.58935652e-01, -3.85811062e+00,\n",
       "        -3.59301074e+00, -3.19689248e+00, -2.12766839e+00,\n",
       "        -2.96424870e+00, -3.60274154e+00, -1.17472896e+00,\n",
       "        -2.58752094e+00, -3.16293962e+00, -1.72757867e+00,\n",
       "        -3.45341213e+00, -2.81273166e+00, -1.03553265e+00,\n",
       "        -3.15675590e-01, -3.70141041e+00, -4.21189811e+00,\n",
       "        -2.46094977e+00, -3.43569797e+00, -3.34469058e+00,\n",
       "        -1.38193635e+00, -3.17949403e+00, -2.42119633e+00,\n",
       "        -1.33643509e+00, -3.06299272e+00, -3.56504553e+00,\n",
       "        -3.34451075e+00,  7.77655270e-01, -2.98030710e+00,\n",
       "        -3.55225078e+00, -1.82974404e+00,  1.46532816e+00,\n",
       "         1.56688198e+00, -2.96543364e+00, -9.60755845e-01,\n",
       "        -3.37890943e+00,  1.47135345e+00, -3.02829566e+00,\n",
       "         7.50982262e-03,  1.79730919e+00,  3.91077683e-01,\n",
       "         1.63881069e+00, -8.84278418e-01,  1.56546135e+00,\n",
       "         1.59529239e+00,  1.27139537e+00,  1.40701977e+00,\n",
       "         1.58125802e+00, -1.72159327e+00,  5.68722722e-01,\n",
       "         1.60960641e+00,  1.70849761e+00,  3.77494361e-02,\n",
       "         1.77885147e+00,  1.57017560e+00,  1.31626221e+00,\n",
       "         1.45580659e+00,  9.95670227e-02,  1.49806312e+00,\n",
       "         1.19805866e+00,  1.30759534e+00,  1.69066279e+00,\n",
       "         1.54457758e+00,  3.36164302e-01,  4.71520896e-01,\n",
       "         1.79332637e+00,  1.75802645e+00,  1.11059510e+00,\n",
       "         2.25410298e-02,  1.03402966e+00,  1.46010385e-01,\n",
       "         1.50301824e+00,  5.29563078e-01,  7.23526086e-01,\n",
       "         1.24444151e+00,  7.11308695e-01,  3.65824427e-02,\n",
       "         5.96719268e-01,  1.77160218e-01,  4.50367941e-01,\n",
       "         3.75726453e-02,  2.13641164e-01,  3.24386893e-01,\n",
       "         7.30780825e-01],\n",
       "       [ 3.57611415e+00, -1.48217090e+00, -1.27995533e+00,\n",
       "        -2.06437997e+00,  2.88910878e+00, -4.03512400e+00,\n",
       "         3.24255518e+00, -8.53952855e-01,  2.47793820e+00,\n",
       "         1.81117216e+00,  3.45270042e+00, -3.44017638e+00,\n",
       "         2.10549647e+00,  1.81380501e+00,  3.30267114e+00,\n",
       "         4.18131769e-01,  3.09636434e+00,  1.33096004e+00,\n",
       "         3.78708833e+00,  3.67113005e+00,  1.77614048e+00,\n",
       "         2.76152023e+00,  3.25544108e+00,  3.46859174e+00,\n",
       "         2.48644177e+00,  3.77377130e+00,  3.60609974e+00,\n",
       "         3.11254032e+00,  3.57519059e+00,  2.61610253e+00,\n",
       "         3.71658382e+00,  3.70508842e+00,  3.83692688e+00,\n",
       "         4.03764347e+00,  3.66278004e+00,  2.58286653e+00,\n",
       "         3.46644213e+00,  1.81009586e+00, -1.49385117e+00,\n",
       "         4.15245354e-01,  2.27195929e+00,  3.36955063e+00,\n",
       "         3.12091874e+00, -1.81920100e+00,  8.92965442e-01,\n",
       "         2.58295944e+00,  3.90987436e-01, -1.63847358e+00,\n",
       "         3.58745594e-01, -1.20025645e+00, -6.62747682e-01,\n",
       "         6.31091667e-01,  1.91148705e+00,  5.61807626e-01,\n",
       "        -1.64789940e-01, -1.67941725e+00, -1.52497835e+00,\n",
       "        -1.68684842e+00, -1.45714301e+00, -1.77895038e+00,\n",
       "        -3.48915965e-02, -1.52257926e+00, -1.66776383e+00,\n",
       "        -1.34036665e+00, -1.71311210e+00, -1.51851549e+00,\n",
       "        -1.13514717e+00, -6.42637843e-01, -6.83366271e-02,\n",
       "        -2.92017074e-01, -1.41218116e-01, -1.50670574e+00,\n",
       "        -1.52995707e+00, -7.94385720e-01, -1.39958852e+00,\n",
       "         3.56093081e-02, -1.79730878e+00, -5.11392884e-01,\n",
       "        -1.12667182e+00, -4.21185479e-01, -1.45669050e+00,\n",
       "        -1.33847132e+00, -8.16479132e-01, -4.73790481e-01,\n",
       "        -6.39753507e-01, -6.34286374e-01, -1.38061641e+00,\n",
       "        -2.57794858e-01, -4.47701819e-01, -4.12904131e-02,\n",
       "        -9.76752768e-02, -1.78618154e-01, -5.67541671e-01,\n",
       "        -8.13740301e-01, -2.63923558e-03, -7.25097028e-02,\n",
       "        -2.63437687e-01, -2.06478223e-02, -4.03305715e-01,\n",
       "        -2.38704899e-01, -9.51626957e-02, -7.98991813e-01,\n",
       "        -1.66006988e-01, -3.64406026e-01, -3.86024370e-01,\n",
       "        -2.20189574e-01, -7.75370339e-01, -1.22170582e-01,\n",
       "        -8.42420756e-02, -2.98099361e-01, -1.96869702e-01,\n",
       "        -7.53075017e-01, -1.46831842e+00, -9.55610600e-03,\n",
       "        -1.20211122e+00, -9.60546773e-03, -8.10882920e-01,\n",
       "        -5.68346353e-02, -1.67347742e+00, -1.40460974e+00,\n",
       "        -1.12343152e+00, -4.04122779e-01, -1.57164755e+00,\n",
       "        -2.60933944e-01, -2.62404061e-04, -1.44902115e+00,\n",
       "        -4.90044260e-01, -1.85263115e+00, -5.41699195e-01,\n",
       "        -1.53914207e+00, -1.68871377e+00, -1.48674074e+00,\n",
       "        -7.97674459e-01, -1.39073589e+00, -1.14367531e+00,\n",
       "        -1.57393834e+00, -8.87426686e-01, -1.21102011e+00,\n",
       "        -8.58734620e-03, -1.19452167e+00, -1.53428360e+00,\n",
       "        -1.57898433e+00,  5.80732218e-01,  3.71643284e-01,\n",
       "         9.98470127e-02, -5.86327973e-01, -5.26306388e-01,\n",
       "         8.87962668e-01,  5.64689692e-02,  1.59318262e+00,\n",
       "        -8.25136845e-01, -1.20845750e+00,  2.78336582e+00,\n",
       "         3.43105607e+00,  1.88901133e+00,  7.17082698e-01,\n",
       "         7.16776955e-01,  1.00558709e+00,  1.57888938e+00,\n",
       "        -7.97008734e-01,  6.58892564e-01, -4.71381742e-01,\n",
       "         3.06914837e+00,  1.64172117e+00,  3.43138378e+00,\n",
       "         2.22472260e+00,  3.59356305e+00,  3.82338186e+00,\n",
       "         9.78172883e-01, -9.08628545e-01,  2.16232645e+00,\n",
       "         3.55191556e+00, -1.13111936e+00,  3.41399524e+00,\n",
       "         3.33509092e+00,  3.43837535e+00,  1.35204653e+00,\n",
       "         3.76053347e+00,  3.30301665e+00,  3.55267433e+00,\n",
       "         2.37056808e+00,  3.18484540e+00,  2.98100486e+00,\n",
       "         3.10265302e-01,  3.33480741e+00,  3.74789034e+00,\n",
       "         1.75698786e+00,  2.41233915e+00,  2.26160198e+00,\n",
       "         2.84308753e+00, -8.08464256e-01,  7.97601218e-01,\n",
       "        -3.16602301e+00, -1.73923341e+00, -3.03300460e-01,\n",
       "         3.51448929e+00, -4.48211450e-01, -6.80222539e-01,\n",
       "        -1.89461587e+00, -3.09125994e+00,  3.68252461e+00,\n",
       "        -2.48775165e-01, -1.11264583e+00, -3.31287149e+00,\n",
       "         9.83064901e-01, -1.06200552e+00,  3.64306307e+00,\n",
       "         1.23598454e+00, -2.48635569e+00, -3.96546091e+00,\n",
       "        -1.30407633e+00, -2.80700115e+00, -3.17916299e+00,\n",
       "        -2.34899616e+00,  3.86016046e+00,  2.31046192e+00,\n",
       "        -1.40325115e+00, -3.22048585e+00, -3.80050197e+00,\n",
       "         2.25857585e+00, -3.30857362e+00, -1.58359847e+00,\n",
       "        -3.47513222e+00, -2.68758875e+00, -3.55711876e-01,\n",
       "        -3.74431790e+00, -3.66810701e+00, -3.36824403e+00,\n",
       "        -3.76359366e+00, -3.41537451e+00, -9.76623415e-01,\n",
       "        -1.29100568e+00, -1.65608598e+00, -3.32409572e+00,\n",
       "        -4.96630821e-01, -3.14165698e+00, -1.71322197e+00,\n",
       "        -3.05909111e-01, -4.46777005e-01,  1.45931378e+00,\n",
       "        -1.22812034e+00, -3.69037212e+00, -3.47057694e+00,\n",
       "         1.15856433e+00, -2.03606086e+00, -3.85511111e-01,\n",
       "        -2.62194406e+00,  1.34798304e+00, -1.51195709e+00,\n",
       "         1.73829518e+00, -1.79547235e+00,  1.54317462e+00,\n",
       "         1.10954960e+00, -1.64931941e+00,  1.75797432e+00,\n",
       "        -1.47251063e+00, -1.28986402e+00,  1.67620531e+00,\n",
       "        -2.39669870e-01,  1.80650988e-01,  6.91778881e-01,\n",
       "        -1.82942022e-01,  1.63134904e+00,  1.82884977e+00,\n",
       "         1.43428651e+00,  1.60094812e+00,  1.75230668e+00,\n",
       "         4.64326857e-01,  1.43351617e+00,  1.43138441e+00,\n",
       "         1.42782215e+00,  1.73492674e+00,  1.70395009e+00,\n",
       "         7.47685370e-02,  1.82710034e+00,  1.70923867e+00,\n",
       "        -1.11868340e-01,  1.14112185e+00,  9.82679506e-01,\n",
       "         1.69883486e+00,  7.33791653e-01,  1.80316095e+00,\n",
       "         1.81840953e+00,  2.85892703e-01,  1.09388890e-02,\n",
       "         3.40608544e-01, -8.22267713e-05,  2.09582869e-01,\n",
       "        -3.52827719e-04,  1.47413722e+00,  6.19443662e-01,\n",
       "         2.64445438e-02,  7.63859684e-01,  2.95005667e-02,\n",
       "         1.68281773e+00,  9.40761147e-01,  9.24913182e-03,\n",
       "         1.61411623e+00,  1.04594113e+00,  3.45145694e-02,\n",
       "         1.49077794e+00,  7.29051825e-04,  3.52475534e-01,\n",
       "         1.00877527e-02,  4.27419191e-03,  1.31839708e-01,\n",
       "         4.14122283e-02,  1.91933665e-01,  7.39039595e-03,\n",
       "         6.46626879e-01,  1.67303451e+00,  4.21369487e-01,\n",
       "         5.56612529e-01,  4.42761985e-02,  1.29232912e+00,\n",
       "         7.28430003e-02,  6.19710137e-02,  1.42351448e+00,\n",
       "         1.08735728e+00,  1.72484190e+00,  1.38667445e+00,\n",
       "         5.90891086e-01,  1.29900039e+00,  9.65871130e-01,\n",
       "         1.56881569e+00,  1.76930017e+00,  1.29792183e+00,\n",
       "         9.84995600e-01,  1.69277814e+00,  8.93630841e-01,\n",
       "         3.06091086e-01,  1.14596763e+00,  1.91549748e+00,\n",
       "         1.57524026e+00,  1.66266665e+00,  1.59850516e+00,\n",
       "         1.10993370e+00,  1.67500495e+00,  5.25296992e-01,\n",
       "         1.03566638e+00,  1.74435925e+00,  1.81971221e+00,\n",
       "         1.11128726e+00, -8.89501086e-01,  6.66069451e-01,\n",
       "         1.26100476e+00,  1.36655852e+00, -2.08468516e+00,\n",
       "        -2.38718334e+00,  1.66924896e+00,  8.49203268e-01,\n",
       "         1.72895893e+00, -2.25643833e+00,  1.69824962e+00,\n",
       "        -7.63165462e-03, -3.09272026e+00, -4.09952810e-01,\n",
       "        -3.79499252e+00,  7.61286324e-01, -2.30558737e+00,\n",
       "        -3.03467556e+00, -1.61502125e+00, -3.90266394e+00,\n",
       "        -2.90841129e+00,  1.31250839e+00,  2.59847860e+00,\n",
       "        -3.50186707e+00, -2.96039129e+00, -3.60098795e-02,\n",
       "        -3.27807629e+00, -2.34587605e+00, -3.56919962e+00,\n",
       "        -3.51991588e+00, -1.23848616e+00, -3.47814659e+00,\n",
       "        -3.65480564e+00, -3.82629239e+00, -3.80826364e+00,\n",
       "        -3.56242008e+00, -2.44646389e+00, -2.51865217e+00,\n",
       "        -3.70032292e+00, -2.98399234e+00, -3.49686963e+00,\n",
       "        -4.88897726e-01, -3.76272064e+00,  1.42253750e+00,\n",
       "        -3.69488964e+00, -2.79391432e+00, -8.53390853e-01,\n",
       "        -3.97467897e+00, -3.03195393e+00, -7.20267166e-01,\n",
       "         2.87171160e+00, -1.53928239e+00,  2.40812143e+00,\n",
       "         8.91600979e-01,  1.73201591e+00, -2.11632466e+00,\n",
       "         3.06832921e+00]])"
      ]
     },
     "execution_count": 99,
     "metadata": {},
     "output_type": "execute_result"
    }
   ],
   "source": [
    "X"
   ]
  },
  {
   "cell_type": "code",
   "execution_count": 100,
   "metadata": {},
   "outputs": [
    {
     "data": {
      "text/plain": [
       "array([[0, 0, 0, 0, 0, 0, 0, 0, 0, 0, 0, 0, 0, 0, 0, 0, 0, 0, 0, 0, 0, 0,\n",
       "        0, 0, 0, 0, 0, 0, 0, 0, 0, 0, 0, 0, 0, 0, 0, 0, 0, 0, 0, 0, 0, 0,\n",
       "        0, 0, 0, 0, 0, 0, 0, 0, 0, 0, 0, 0, 0, 0, 0, 0, 0, 0, 0, 0, 0, 0,\n",
       "        0, 0, 0, 0, 0, 0, 0, 0, 0, 0, 0, 0, 0, 0, 0, 0, 0, 0, 0, 0, 0, 0,\n",
       "        0, 0, 0, 0, 0, 0, 0, 0, 0, 0, 0, 0, 0, 0, 0, 0, 0, 0, 0, 0, 0, 0,\n",
       "        0, 0, 0, 0, 0, 0, 0, 0, 0, 0, 0, 0, 0, 0, 0, 0, 0, 0, 0, 0, 0, 0,\n",
       "        0, 0, 0, 0, 0, 0, 0, 0, 0, 0, 0, 0, 0, 0, 0, 0, 0, 0, 0, 0, 0, 0,\n",
       "        0, 0, 0, 0, 0, 0, 0, 0, 0, 0, 0, 0, 0, 0, 0, 0, 0, 0, 0, 0, 0, 0,\n",
       "        0, 0, 0, 0, 0, 0, 0, 0, 0, 0, 0, 0, 0, 0, 0, 0, 0, 0, 0, 0, 0, 0,\n",
       "        0, 0, 1, 1, 1, 1, 1, 1, 1, 1, 1, 1, 1, 1, 1, 1, 1, 1, 1, 1, 1, 1,\n",
       "        1, 1, 1, 1, 1, 1, 1, 1, 1, 1, 1, 1, 1, 1, 1, 1, 1, 1, 1, 1, 1, 1,\n",
       "        1, 1, 1, 1, 1, 1, 1, 1, 1, 1, 1, 1, 1, 1, 1, 1, 1, 1, 1, 1, 1, 1,\n",
       "        1, 1, 1, 1, 1, 1, 1, 1, 1, 1, 1, 1, 1, 1, 1, 1, 1, 1, 1, 1, 1, 1,\n",
       "        1, 1, 1, 1, 1, 1, 1, 1, 1, 1, 1, 1, 1, 1, 1, 1, 1, 1, 1, 1, 1, 1,\n",
       "        1, 1, 1, 1, 1, 1, 1, 1, 1, 1, 1, 1, 1, 1, 1, 1, 1, 1, 1, 1, 1, 1,\n",
       "        1, 1, 1, 1, 1, 1, 1, 1, 1, 1, 1, 1, 1, 1, 1, 1, 1, 1, 1, 1, 1, 1,\n",
       "        1, 1, 1, 1, 1, 1, 1, 1, 1, 1, 1, 1, 1, 1, 1, 1, 1, 1, 1, 1, 1, 1,\n",
       "        1, 1, 1, 1, 1, 1, 1, 1, 1, 1, 1, 1, 1, 1, 1, 1, 1, 1, 1, 1, 1, 1,\n",
       "        1, 1, 1, 1]], dtype=uint8)"
      ]
     },
     "execution_count": 100,
     "metadata": {},
     "output_type": "execute_result"
    }
   ],
   "source": [
    "Y"
   ]
  },
  {
   "cell_type": "code",
   "execution_count": 101,
   "metadata": {},
   "outputs": [
    {
     "data": {
      "text/plain": [
       "<matplotlib.collections.PathCollection at 0x1c78fad5790>"
      ]
     },
     "execution_count": 101,
     "metadata": {},
     "output_type": "execute_result"
    },
    {
     "data": {
      "image/png": "[encoded data removed]",
      "text/plain": [
       "<Figure size 640x480 with 1 Axes>"
      ]
     },
     "metadata": {},
     "output_type": "display_data"
    }
   ],
   "source": [
    "plt.scatter(X[0,:], X[1,:], c=Y, cmap=plt.cm.Spectral)"
   ]
  },
  {
   "cell_type": "code",
   "execution_count": 102,
   "metadata": {},
   "outputs": [
    {
     "name": "stdout",
     "output_type": "stream",
     "text": [
      "n=2\n",
      "m=400\n"
     ]
    }
   ],
   "source": [
    "n=X.shape[0]\n",
    "m=X.shape[1]\n",
    "print(f\"n={n}\")\n",
    "print(f\"m={m}\")"
   ]
  },
  {
   "cell_type": "code",
   "execution_count": 103,
   "metadata": {},
   "outputs": [
    {
     "name": "stderr",
     "output_type": "stream",
     "text": [
      "c:\\Users\\Scotty\\anaconda3\\lib\\site-packages\\sklearn\\utils\\validation.py:993: DataConversionWarning: A column-vector y was passed when a 1d array was expected. Please change the shape of y to (n_samples, ), for example using ravel().\n",
      "  y = column_or_1d(y, warn=True)\n"
     ]
    },
    {
     "data": {
      "text/plain": [
       "LogisticRegression()"
      ]
     },
     "execution_count": 103,
     "metadata": {},
     "output_type": "execute_result"
    }
   ],
   "source": [
    "clf = LogisticRegression()\n",
    "clf.fit(X.T, Y.T)"
   ]
  },
  {
   "cell_type": "code",
   "execution_count": 104,
   "metadata": {},
   "outputs": [
    {
     "data": {
      "text/plain": [
       "0.47"
      ]
     },
     "execution_count": 104,
     "metadata": {},
     "output_type": "execute_result"
    }
   ],
   "source": [
    "clf.score(X=X.T, y=Y.T)"
   ]
  },
  {
   "cell_type": "code",
   "execution_count": 105,
   "metadata": {},
   "outputs": [],
   "source": [
    "Y_pred = clf.predict(X.T)"
   ]
  },
  {
   "cell_type": "code",
   "execution_count": 106,
   "metadata": {},
   "outputs": [
    {
     "data": {
      "text/plain": [
       "<sklearn.metrics._plot.confusion_matrix.ConfusionMatrixDisplay at 0x1c78fad1ac0>"
      ]
     },
     "execution_count": 106,
     "metadata": {},
     "output_type": "execute_result"
    },
    {
     "data": {
      "image/png": "[encoded data removed]",
      "text/plain": [
       "<Figure size 640x480 with 2 Axes>"
      ]
     },
     "metadata": {},
     "output_type": "display_data"
    }
   ],
   "source": [
    "cm = confusion_matrix(y_true=Y.T, y_pred=Y_pred.T)\n",
    "cm_display = ConfusionMatrixDisplay(confusion_matrix=cm)\n",
    "cm_display.plot()"
   ]
  },
  {
   "cell_type": "code",
   "execution_count": 107,
   "metadata": {},
   "outputs": [],
   "source": [
    "def layer_sizes(X,Y,h):\n",
    "    n = X.shape[0]\n",
    "    k = Y.shape[0]\n",
    "    return n, h, k"
   ]
  },
  {
   "cell_type": "code",
   "execution_count": 108,
   "metadata": {},
   "outputs": [],
   "source": [
    "def initialize_parameters(n,h,k):\n",
    "    W1 = np.random.randn(n, h)*0.01\n",
    "    b1 = np.zeros((h, 1))\n",
    "    W2 = np.random.randn(h,k)*0.01\n",
    "    b2 = np.zeros((k, 1))\n",
    "\n",
    "    parameters = {\"W1\": W1,\n",
    "                  \"b1\": b1,\n",
    "                  \"W2\": W2,\n",
    "                  \"b2\": b2}\n",
    "    \n",
    "    return parameters"
   ]
  },
  {
   "cell_type": "code",
   "execution_count": 109,
   "metadata": {},
   "outputs": [],
   "source": [
    "def sigmoid(x):\n",
    "    return 1/(1+np.exp(-x))"
   ]
  },
  {
   "cell_type": "code",
   "execution_count": 110,
   "metadata": {},
   "outputs": [],
   "source": [
    "def forward_propagation(X, parameters):\n",
    "\n",
    "    W1 = parameters[\"W1\"]\n",
    "    b1 = parameters[\"b1\"]\n",
    "    W2 = parameters[\"W2\"]\n",
    "    b2 = parameters[\"b2\"]\n",
    "\n",
    "    A0=X\n",
    "    Z1 = np.matmul(W1.T,A0)+b1\n",
    "    A1 = np.tanh(Z1)\n",
    "    Z2 = np.matmul(W2.T,A1)+b2\n",
    "    A2 = sigmoid(Z2)\n",
    "\n",
    "    assert(A2.shape == (1, X.shape[1]))\n",
    "\n",
    "    neurons = {\"Z1\": Z1, \"A1\": A1, \"Z2\": Z2, \"A2\": A2}\n",
    "\n",
    "    return A2, neurons\n",
    "    "
   ]
  },
  {
   "cell_type": "code",
   "execution_count": 111,
   "metadata": {},
   "outputs": [],
   "source": [
    "def compute_cost(A2,Y):\n",
    "    m=Y.shape[1]\n",
    "\n",
    "    cost = -1/m*(np.matmul(Y,np.log(A2).T) + np.matmul((1-Y), np.log(1-A2).T))\n",
    "\n",
    "    cost = float(np.squeeze(cost))\n",
    "\n",
    "    return cost"
   ]
  },
  {
   "cell_type": "code",
   "execution_count": 112,
   "metadata": {},
   "outputs": [],
   "source": [
    "def backward_propagation(parameters, neurons, X, Y):\n",
    "    m = X.shape[1]\n",
    "    A0 = X\n",
    "    W1 = parameters[\"W1\"]\n",
    "    W2 = parameters[\"W2\"]\n",
    "\n",
    "    A1 = neurons[\"A1\"]\n",
    "    A2 = neurons[\"A2\"]\n",
    "\n",
    "    dJdZ2 = A2-Y\n",
    "    dJdW2 = 1/m*np.matmul(A1, dJdZ2.T)\n",
    "    dJdb2 = dJdZ2.mean(axis=1, keepdims=True)\n",
    "    dJdZ1 = np.multiply(np.matmul(W2, dJdZ2), (1 - np.power(A1, 2)))\n",
    "    dJdW1 = 1/m*np.matmul(A0, dJdZ1.T)\n",
    "    dJdb1 = dJdZ1.mean(axis=1, keepdims=True)\n",
    "\n",
    "    grads={\"dJdW1\": dJdW1, \"dJdb1\": dJdb1, \"dJdW2\": dJdW2, \"dJdb2\": dJdb2}\n",
    "\n",
    "    return grads"
   ]
  },
  {
   "cell_type": "code",
   "execution_count": 113,
   "metadata": {},
   "outputs": [],
   "source": [
    "def update_parameters(parameters, grads, learning_rate = 1.2):\n",
    "    W1 = copy.deepcopy(parameters[\"W1\"])\n",
    "    b1 = parameters[\"b1\"]\n",
    "    W2 = copy.deepcopy(parameters[\"W2\"])\n",
    "    b2 = parameters[\"b2\"]\n",
    "\n",
    "    dJdW1 = grads[\"dJdW1\"]\n",
    "    dJdb1 = grads[\"dJdb1\"]\n",
    "    dJdW2 = grads[\"dJdW2\"]\n",
    "    dJdb2 = grads[\"dJdb2\"]\n",
    "\n",
    "    W1 = W1 - learning_rate*dJdW1\n",
    "    b1 = b1 - learning_rate*dJdb1\n",
    "    W2 = W2 - learning_rate*dJdW2\n",
    "    b2 = b2 - learning_rate*dJdb2\n",
    "\n",
    "    parameters = {\"W1\": W1, \"b1\": b1, \"W2\": W2, \"b2\": b2}\n",
    "\n",
    "    return parameters\n"
   ]
  },
  {
   "cell_type": "code",
   "execution_count": 117,
   "metadata": {},
   "outputs": [],
   "source": [
    "def nn_model(X,Y,h,num_iterations=10000, print_cost=False):\n",
    "    n, h, k = layer_sizes(X,Y,h)\n",
    "    parameters = initialize_parameters(n,h,k)\n",
    "\n",
    "    for i in range(num_iterations):\n",
    "        A2, neurons = forward_propagation(X, parameters)\n",
    "        cost = compute_cost(A2,Y)\n",
    "        grads = backward_propagation(\n",
    "            parameters, neurons,X,Y)\n",
    "        parameters=update_parameters(parameters,grads)\n",
    "\n",
    "        if print_cost and i%1000==0:\n",
    "            print(f\"Cost after iteration {i,cost}\")\n",
    "\n",
    "    return parameters"
   ]
  },
  {
   "cell_type": "code",
   "execution_count": 115,
   "metadata": {},
   "outputs": [],
   "source": [
    "def predict(parameters, X):\n",
    "    A2, neurons = forward_propagation(X,parameters)\n",
    "    predictions = np.where(A2 > 0.5, 1, 0)\n",
    "    return predictions"
   ]
  },
  {
   "cell_type": "code",
   "execution_count": 118,
   "metadata": {},
   "outputs": [
    {
     "name": "stdout",
     "output_type": "stream",
     "text": [
      "Cost after iteration (0, 0.693154709825669)\n",
      "Cost after iteration (1000, 0.2821564247116164)\n",
      "Cost after iteration (2000, 0.26952659754876374)\n",
      "Cost after iteration (3000, 0.2621016728142721)\n",
      "Cost after iteration (4000, 0.23834670604718533)\n",
      "Cost after iteration (5000, 0.22572181164344735)\n",
      "Cost after iteration (6000, 0.22147920994596526)\n",
      "Cost after iteration (7000, 0.21880847795471603)\n",
      "Cost after iteration (8000, 0.21680551432388007)\n",
      "Cost after iteration (9000, 0.2151938687897304)\n"
     ]
    }
   ],
   "source": [
    "parameters = nn_model(X,Y,h=4,num_iterations=10000,print_cost=True)"
   ]
  },
  {
   "cell_type": "code",
   "execution_count": 121,
   "metadata": {},
   "outputs": [],
   "source": [
    "predictions = predict(parameters, X)"
   ]
  },
  {
   "cell_type": "code",
   "execution_count": 122,
   "metadata": {},
   "outputs": [
    {
     "data": {
      "text/plain": [
       "0.9075"
      ]
     },
     "execution_count": 122,
     "metadata": {},
     "output_type": "execute_result"
    }
   ],
   "source": [
    "accuracy_score(\n",
    "    y_true=Y.reshape(-1),\n",
    "    y_pred=predictions.reshape(-1)\n",
    ")"
   ]
  },
  {
   "cell_type": "code",
   "execution_count": 123,
   "metadata": {},
   "outputs": [
    {
     "data": {
      "text/plain": [
       "<sklearn.metrics._plot.confusion_matrix.ConfusionMatrixDisplay at 0x1c78fc069a0>"
      ]
     },
     "execution_count": 123,
     "metadata": {},
     "output_type": "execute_result"
    },
    {
     "data": {
      "image/png": "[encoded data removed]",
      "text/plain": [
       "<Figure size 640x480 with 2 Axes>"
      ]
     },
     "metadata": {},
     "output_type": "display_data"
    }
   ],
   "source": [
    "cm = confusion_matrix(\n",
    "    y_true=Y.reshape(-1), y_pred=predictions.reshape(-1))\n",
    "cm_display = ConfusionMatrixDisplay(confusion_matrix=cm)\n",
    "cm_display.plot()"
   ]
  },
  {
   "cell_type": "code",
   "execution_count": null,
   "metadata": {},
   "outputs": [],
   "source": []
  }
 ],
 "metadata": {
  "kernelspec": {
   "display_name": "base",
   "language": "python",
   "name": "python3"
  },
  "language_info": {
   "codemirror_mode": {
    "name": "ipython",
    "version": 3
   },
   "file_extension": ".py",
   "mimetype": "text/x-python",
   "name": "python",
   "nbconvert_exporter": "python",
   "pygments_lexer": "ipython3",
   "version": "3.9.13"
  }
 },
 "nbformat": 4,
 "nbformat_minor": 2
}
