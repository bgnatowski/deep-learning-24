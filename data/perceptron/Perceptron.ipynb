{
  "nbformat": 4,
  "nbformat_minor": 0,
  "metadata": {
    "colab": {
      "provenance": []
    },
    "kernelspec": {
      "name": "python3",
      "display_name": "Python 3"
    },
    "language_info": {
      "name": "python"
    }
  },
  "cells": [
    {
      "cell_type": "markdown",
      "source": [
        "**Perceptron**"
      ],
      "metadata": {
        "id": "gcGm1KWUvUmO"
      }
    },
    {
      "cell_type": "code",
      "execution_count": null,
      "metadata": {
        "id": "DvHFGm6DcbS9"
      },
      "outputs": [],
      "source": []
    },
    {
      "cell_type": "markdown",
      "source": [
        "$\\textbf{Steps}$:\n",
        "\n",
        "1. Initialize the weights. Weights may be initialized to $0$ or to a small random value. In the example below, we use $0$.\n",
        "\n",
        "2. For each example $j$ in our training set $D$, perform the following steps over the input $\\mathbf{x}_{j}$ and desired output $d_{j}$:\n",
        "\n",
        "$\\qquad$ (a) Calculate the actual output:\n",
        "\\begin{aligned}y_{j}(t)&=f[\\mathbf {w} (t)\\cdot \\mathbf {x} _{j}]\\\\&=f[w_{0}(t)x_{j,0}+w_{1}(t)x_{j,1}+w_{2}(t)x_{j,2}+\\ldots +w_{n}(t)x_{j,n}]\\end{aligned}\n",
        "\n",
        "$\\qquad$ (b) Update the weights:\n",
        "\\begin{aligned}\n",
        "w_i(t+1) = w_i(t) + \\lambda \\cdot (d_{j} - y_{j}(t)) \\cdot x_{j,i},\n",
        "\\end{aligned}\n",
        "$\\qquad$ for all features $0\\leq i \\leq n$ where $\\lambda$ is the learning rate.\n",
        "\n",
        "For offline learning, the second step may be repeated until the iteration error $\\frac {1}{s} \\sum_{j=1}^{s} \\vert d_{j}-y_{j}(t) \\vert$ is less than a user-specified error threshold $\\gamma$, or a predetermined number of iterations have been completed, where $s$ is the size of the sample set."
      ],
      "metadata": {
        "id": "3FVCc3UPvSrK"
      }
    },
    {
      "cell_type": "markdown",
      "source": [],
      "metadata": {
        "id": "Gjoc5Uy1vRfP"
      }
    },
    {
      "cell_type": "code",
      "source": [],
      "metadata": {
        "id": "DTthAeJDcoLl"
      },
      "execution_count": null,
      "outputs": []
    },
    {
      "cell_type": "code",
      "source": [
        "# importing Python library\n",
        "import numpy as np\n",
        "import random\n",
        "\n",
        "# define Unit Step Function\n",
        "def unitStep(v):\n",
        "    if v >= 0:\n",
        "        return 1\n",
        "    else:\n",
        "        return 0\n",
        "\n",
        "# design Perceptron Model\n",
        "def perceptronModel(x, w, b):\n",
        "    v = np.dot(w, x) + b\n",
        "    y = unitStep(v)\n",
        "    return y\n"
      ],
      "metadata": {
        "id": "Gf8jkpCJcoOn"
      },
      "execution_count": 1,
      "outputs": []
    },
    {
      "cell_type": "code",
      "source": [],
      "metadata": {
        "id": "Q2G6Jx6CmCk4"
      },
      "execution_count": null,
      "outputs": []
    },
    {
      "cell_type": "code",
      "source": [],
      "metadata": {
        "id": "bqMeHyvKcoRR"
      },
      "execution_count": null,
      "outputs": []
    },
    {
      "cell_type": "code",
      "source": [
        "X=[[0,0],[0,1],[1,0],[1,1]]"
      ],
      "metadata": {
        "id": "6tJvpD2ZcoT4"
      },
      "execution_count": 2,
      "outputs": []
    },
    {
      "cell_type": "code",
      "source": [
        "augmented_X=[[0,0,0],[0,1,1],[1,0,1],[1,1,1]]"
      ],
      "metadata": {
        "id": "7eBAzy0tcoaE"
      },
      "execution_count": 3,
      "outputs": []
    },
    {
      "cell_type": "code",
      "source": [
        "perceptronModel([0,1], [0.1,-0.5],-1)"
      ],
      "metadata": {
        "colab": {
          "base_uri": "https://localhost:8080/"
        },
        "id": "aMXUYgDOcoed",
        "outputId": "03994b93-9848-4c33-9d16-446b30683603"
      },
      "execution_count": 4,
      "outputs": [
        {
          "output_type": "execute_result",
          "data": {
            "text/plain": [
              "0"
            ]
          },
          "metadata": {},
          "execution_count": 4
        }
      ]
    },
    {
      "cell_type": "code",
      "source": [
        "init_w=np.random.rand(2)\n",
        "init_b=random.random()"
      ],
      "metadata": {
        "id": "JXfgHrq6coiG"
      },
      "execution_count": 5,
      "outputs": []
    },
    {
      "cell_type": "code",
      "source": [
        "print(list(init_w))\n",
        "print(init_b)"
      ],
      "metadata": {
        "colab": {
          "base_uri": "https://localhost:8080/"
        },
        "id": "sWdZeykncokM",
        "outputId": "15c0038c-ff20-4711-a061-e8015cb1f1d3"
      },
      "execution_count": 6,
      "outputs": [
        {
          "output_type": "stream",
          "name": "stdout",
          "text": [
            "[0.8602161190348728, 0.8152485675895731]\n",
            "0.6543537387933749\n"
          ]
        }
      ]
    },
    {
      "cell_type": "code",
      "source": [
        "perceptronModel(X[0], init_w, init_b)"
      ],
      "metadata": {
        "colab": {
          "base_uri": "https://localhost:8080/"
        },
        "id": "KawvYzSqi0Fq",
        "outputId": "2a533d4b-38e5-4e7a-a78b-7ff1df7cabcd"
      },
      "execution_count": 7,
      "outputs": [
        {
          "output_type": "execute_result",
          "data": {
            "text/plain": [
              "1"
            ]
          },
          "metadata": {},
          "execution_count": 7
        }
      ]
    },
    {
      "cell_type": "code",
      "source": [
        "lr=0.1\n",
        "epochs=10\n",
        "weights=init_w\n",
        "b=-1\n",
        "for epoch in range(epochs):\n",
        "  error_sum=0\n",
        "  for x in augmented_X:\n",
        "    y=perceptronModel(x[:-1], weights, -1)\n",
        "    error = x[-1] - y\n",
        "    error_sum+=np.abs(error)\n",
        "    new_weights=[]\n",
        "    for i in range(len(weights)): #update weights\n",
        "      new_weights.append(weights[i]+lr*error*x[i])\n",
        "    weights=new_weights\n",
        "  print(error_sum)"
      ],
      "metadata": {
        "id": "IcK41ry6col1",
        "colab": {
          "base_uri": "https://localhost:8080/"
        },
        "outputId": "0eb7de09-0f17-4670-a9b6-2dae9d41495b"
      },
      "execution_count": 8,
      "outputs": [
        {
          "output_type": "stream",
          "name": "stdout",
          "text": [
            "2\n",
            "2\n",
            "0\n",
            "0\n",
            "0\n",
            "0\n",
            "0\n",
            "0\n",
            "0\n",
            "0\n"
          ]
        }
      ]
    },
    {
      "cell_type": "code",
      "source": [
        "weights"
      ],
      "metadata": {
        "colab": {
          "base_uri": "https://localhost:8080/"
        },
        "id": "q2dBEuTuoBEU",
        "outputId": "b2b9f2ad-e78a-45fe-c049-e423dc72ba60"
      },
      "execution_count": 9,
      "outputs": [
        {
          "output_type": "execute_result",
          "data": {
            "text/plain": [
              "[1.060216119034873, 1.015248567589573]"
            ]
          },
          "metadata": {},
          "execution_count": 9
        }
      ]
    },
    {
      "cell_type": "code",
      "source": [
        "def decision_boundary(x, weights):\n",
        "  #w1*x1 + w2*x2 - 1 = 0\n",
        "  #x2 = 1/w2 - (w1/w2) * x1\n",
        "  y = 1/weights[1] - (weights[0]/weights[1])*x\n",
        "  return y"
      ],
      "metadata": {
        "id": "b2PpeTqIpIQF"
      },
      "execution_count": 10,
      "outputs": []
    },
    {
      "cell_type": "code",
      "source": [
        "weights"
      ],
      "metadata": {
        "colab": {
          "base_uri": "https://localhost:8080/"
        },
        "id": "gaxX-fNw1p00",
        "outputId": "2387e0af-80d5-40bc-cf54-c97034c809dc"
      },
      "execution_count": 11,
      "outputs": [
        {
          "output_type": "execute_result",
          "data": {
            "text/plain": [
              "[1.060216119034873, 1.015248567589573]"
            ]
          },
          "metadata": {},
          "execution_count": 11
        }
      ]
    },
    {
      "cell_type": "code",
      "source": [
        "import matplotlib.pyplot as plt\n",
        "x_interval = np.linspace(-0.05,1.05,150)\n",
        "y = decision_boundary(x_interval, weights)\n",
        "plt.scatter(X[0][0],X[0][1],color=\"blue\")\n",
        "plt.scatter(X[1][0],X[1][1],color=\"green\")\n",
        "plt.scatter(X[2][0],X[2][1],color=\"green\")\n",
        "plt.scatter(X[3][0],X[3][1],color=\"blue\")\n",
        "plt.plot(x_interval,y)\n",
        "#plt.ylim(-0.05,1.05)\n",
        "plt.show()"
      ],
      "metadata": {
        "colab": {
          "base_uri": "https://localhost:8080/",
          "height": 430
        },
        "id": "K5idmlmlzzNb",
        "outputId": "db536347-d0a2-4d12-bedd-2a0227f3a5be"
      },
      "execution_count": 12,
      "outputs": [
        {
          "output_type": "display_data",
          "data": {
            "text/plain": [
              "<Figure size 640x480 with 1 Axes>"
            ],
            "image/png": "[encoded data removed]"
          },
          "metadata": {}
        }
      ]
    },
    {
      "cell_type": "code",
      "source": [
        "for elem in X:\n",
        "  print(elem)\n",
        "  print(str(elem) + ': ' + str(perceptronModel(elem, weights, -1)) )"
      ],
      "metadata": {
        "colab": {
          "base_uri": "https://localhost:8080/"
        },
        "id": "94LvFd7Torjd",
        "outputId": "b0bd037e-6ad4-48ab-886d-eaa64c3e69e1"
      },
      "execution_count": 13,
      "outputs": [
        {
          "output_type": "stream",
          "name": "stdout",
          "text": [
            "[0, 0]\n",
            "[0, 0]: 0\n",
            "[0, 1]\n",
            "[0, 1]: 1\n",
            "[1, 0]\n",
            "[1, 0]: 1\n",
            "[1, 1]\n",
            "[1, 1]: 1\n"
          ]
        }
      ]
    }
  ]
}